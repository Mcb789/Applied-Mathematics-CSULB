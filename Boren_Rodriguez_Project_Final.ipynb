{
 "cells": [
  {
   "cell_type": "markdown",
   "id": "376a337c",
   "metadata": {},
   "source": [
    "### <p style=\"text-align: right;\"> &#9989; Macy Boren, Dani Rodriguez"
   ]
  },
  {
   "cell_type": "markdown",
   "id": "d505a235",
   "metadata": {},
   "source": [
    "# __MATH323 &ndash; Introduction to Numerical Analysis &ndash; Fall 2023__\n",
    "\n",
    "# Semester Project - Romberg Method of Integration"
   ]
  },
  {
   "cell_type": "markdown",
   "id": "20a1ad2c",
   "metadata": {},
   "source": [
    "## 1. Background and Motivation"
   ]
  },
  {
   "cell_type": "markdown",
   "id": "406cb96e",
   "metadata": {},
   "source": [
    "Integrals have the form below, where we assume $b>a$ and is continuous and differentiable, and we seek to find $I_h \\approx I$.\n",
    "\n",
    "$$I = \\int_a^b f(x) \\,dx $$\n",
    "\n",
    "There are many ways and methods to approximate integrals so the problem is not how to use the methods but which one to pick. One of these is the method of Romberg Integration. Romberg integration blends together two methods, the Composite Trapezoidal Rule and Richardsons Extrapolation. Romberg integration is created by using the composite trapezoidal rule as the bases for the approximation, then introduce Richardsons Extrapolation to get a more accurate approximation by expanding the truncation error from Composite Trapezoidal. \n",
    "\n",
    "The motivation to use this method comes from the ability to present information in an easy to read table, and results can be obtained with little computations cost."
   ]
  },
  {
   "cell_type": "markdown",
   "id": "2eea50a7",
   "metadata": {},
   "source": [
    "## 2. Description of the Numerical Method"
   ]
  },
  {
   "cell_type": "markdown",
   "id": "8c99a2d3",
   "metadata": {},
   "source": [
    "*Introduction:*\n",
    "The numerical method of Romberg Integration is composed of two parts, the Composite Trapezoidal Rule and Richardson's Extrapolation. The purpose of Romberg Integration is to improve accuracy of the Composite Trapezoidal Rule by finding a higer order approximation using Richardsons Extrapolation. Since Romberg is a combination of these two techniques, we find that we obtain even order approximations with each extrapolation set. It is also true that the higher order approximation build upon themselves by requiring information from the previous iteration. We will investigate this further by extrapolating the error term found in the Composite Trapezoidal Rule.  \n",
    "\n",
    "Romberg Integration is notated by the form $R_{i,j}$ with $i$ corresponding to the number of times that Composite Trapezoidal Rule is used and $j$ is the layers of extrapolation.\n",
    "Romberg integration builds upon itself in the sense that the previous approximations of trapezoidal and layers of extrapolation are combined to increase the order.\n",
    "This is done by adding a point, or points, in between the ones used for the last approximation, at which the method can be applied. The beauty of Romberg is that high accuracy approximations can be obtained with little computational cost.\n",
    "\n",
    "\n",
    "*The Composite Trapezoidal Rule:*\n",
    "The Composite Trapezoidal Rule forms the base for the Romberg Integration and has the following form.\n",
    "\n",
    "\\begin{equation}\n",
    "    \\int_a^b f(x) \\,dx = \\underbrace{\\frac{h}{2}\\big[(f(a)+ 2  \\sum_{j=i}^{n-1} f(x_j) + f(b)\\big]}_{\\text{approximation}} - \\underbrace{\\frac{b - a}{12}h^{2} f''(\\mu)}_{\\text{error}}\n",
    "\\end{equation}\n",
    "\n",
    "Composite methods are higher order fomulas that can be approximated directly by a piecewise approach with low-order Newton-Cotes formulas makes for a better and more effecive approximation. The trapezoidal rule is the first of the Newton-Cotes formulas and is used for polynomials of degree 1 or less, with degree of precision of one, in order to achieve an exact approximation. Because this method is the sumation of trapezoids under a curve we need to use even spaced intervals.\n"
   ]
  },
  {
   "cell_type": "markdown",
   "id": "9ed4f02b",
   "metadata": {},
   "source": [
    "Composite Trapezoidal has a truncation error of order $\\mathcal{O}(h^2)$, $h = \\frac{b-a}{n}$ and $x_j = a +jh$. The error term should be expressed in this expanded from in order to show that it is a canidate for Richardsons Extrapolation.\n",
    "Alternatively it can be written with the error term in the form,\n",
    "\n",
    "\\begin{equation}\n",
    "   [1] \\int_a^b f(x) \\,dx = \\frac{h}{2}\\big[(f(a)+ 2  \\sum_{j=i}^{n-1} f(x_j) + f(b)\\big] + K_1h^2 + K_2h^4 + K_3h^6 + \\dots\n",
    "\\end{equation}\n"
   ]
  },
  {
   "cell_type": "markdown",
   "id": "d33f87da",
   "metadata": {},
   "source": [
    "*Richardson's Extrapolation:* Remember that Richardson's extrapolation elimates the first error term and can be performed on the approximation with the truncation error in the form with even powers. \n",
    "\n",
    "$$\\sum_{j=i}^{n-1} K_jh^{2j} + O(h^{2n})$$ \n",
    "\n",
    "Notice that the composite trapezoidal rule has an error term in this form, so we can apply Extrapolation. Beucase the error terms from trapezoidal are even order, Richardson extrapolation will be very effective. More so than if we tried to use another method for the basis of our approximation. Richardsons extrapolation is effective becuase it quickly increases the order term.\n",
    "\n",
    "This combination of techniques is called Romberg Integration!"
   ]
  },
  {
   "cell_type": "markdown",
   "id": "71c764e9",
   "metadata": {},
   "source": [
    "The approximation of the integral $\\int_a^b f(x)\\,dx$ is done by taking the results of the Composite Trapezoidal rule with $n = 1,2,4,8,16,\\dots$\n",
    "The notation of Rombergs Integral with the Trapezoidal rule is $R_{1,j},R_{2,j},R_{3,j},etc$. The order approximations can be increased by applying the extrapolation.\n",
    "\n",
    "**Example***\n",
    "\n",
    "This is how the following higher order approximations are built, using the results from the composite Trapezoidal Rule.\n",
    "\n",
    "Lets take the results from Composite Trapezoidal rule with $n = 1,2,4,8,16,...$ and denote the approximations as $R_{1,j},R_{2,j},R_{3,j}$.\n",
    "\n",
    "Richardson's Extrapolation uses $h = \\frac{1}{2}, \\frac{1}{4}, \\frac{1}{8}, ..., \\frac{1}{2^n}$\n",
    "\n",
    "$$ \\frac{p^h Q_{app}(h/p) - Q_{app}(h)}{p^h -1}$$\n",
    "\n",
    "\n",
    "And in general, we determine the $O(h^{2i})$ for $i = j,j+1,\\dots$ approximations as a linear combination of $R_{i,j}$ and $R_{i+1,j}$ from Richardson Extrapolation.\n",
    "\n",
    "\n",
    "\n",
    "$$R_{i,j} = R_{i,j-1} + \\frac{1}{4^{j-1}-1}R_{i,j-1} - R_{i-1,j-1} + \\mathcal{O}(h_1^{2i}) $$\n",
    "\n",
    "The objective when using extrapolation is to combine a less accurate approximaiton, $Q_{app}(h)$, with a slightly better one, $Q_{app}(h/p)$, to produce a result with a high-order turncation error.\n"
   ]
  },
  {
   "cell_type": "markdown",
   "id": "c6edeedb",
   "metadata": {},
   "source": [
    "Notice how the higher order approximations build upon itself, by requiring information from the previous iteration. In fact, what we are doing is adding a point in between the points we used previously and incorporating those into the approximation. In general, the Composite Trapezoidal Rule, $R_{i+1,1}$ uses the same evaluations as $R_{i,1}$  but adds evaluations at the $2^{k-2}$ intermediate points."
   ]
  },
  {
   "cell_type": "markdown",
   "id": "8d885fc1",
   "metadata": {},
   "source": [
    "This can be shown in a table below.\n",
    "\n",
    "|$h$| $k$| $O(h_{k}^2)$ | $O(h_{k}^4)$ | $O(h_{k}^6)$| $O(h_{k}^8)$||$O(h_{k}^{2n})$|\n",
    "|---| --- | --- | --- |--- |--- |--- | --- |\n",
    "|$\\frac{1}{2}$|$1$|$R_{1,1}$| | | | | |\n",
    "|$\\frac{1}{4}$|$2$|$R_{2,1}$|$R_{2,2}$| | | | |\n",
    "|$\\frac{1}{8}$|$3$|$R_{3,1}$|$R_{3,2}$|$R_{3,3}$| | | |\n",
    "|$\\frac{1}{16}$|$4$|$R_{4,1}$|$R_{4,2}$|$R_{4,3}$|$R_{4,4}$| | |\n",
    "|$\\vdots$|$\\vdots$|$\\vdots$|$\\vdots$|$\\vdots$|$\\vdots$|$\\ddots$||\n",
    "|$\\frac{1}{2^{k}}$|$n$|$R_{n,1}$|$R_{n,2}$|$R_{n,3}$|$R_{n,3}$|$\\dots$|$R_{n,n}$||"
   ]
  },
  {
   "cell_type": "markdown",
   "id": "82dff1bd",
   "metadata": {},
   "source": [
    "**This example comes from \"Numerical Analysis\" Burden, Faires, and Durden (p.212-217)*\n",
    "\n",
    "[1] \"Numerical Analysis\" Burden, Faires, and Durden (211-212)"
   ]
  },
  {
   "cell_type": "markdown",
   "id": "c086a886",
   "metadata": {},
   "source": [
    "*How to Solve*:\n",
    "- Use Composite Trapezoidal Rule to find the first column.\n",
    "- Improve error term using the Romberg Algorithm.\n",
    "- To increase order, you must calculate another interation of Composite Trapezoidal Rule."
   ]
  },
  {
   "cell_type": "markdown",
   "id": "a18ee822",
   "metadata": {},
   "source": [
    "## 3. Theory"
   ]
  },
  {
   "cell_type": "markdown",
   "id": "cf0d7705",
   "metadata": {},
   "source": [
    "Romberg’s relies on using Richardson's Extrapolation on Composite trapezoidal rule repeatedly, which gives us approximations for evenly spaced points within the interval which we are trying to estimate. Simpson's can also be seen as the first extrapolation step on trapezoidal rule. While multiple methods can be used Composite Trapezoidal Rule is the most efficient due to the evenly increasing order. It can be computed with a table, like Newton-Cotes Formula, calculating each $R_{i,j}$ where $i = 1 , 2, …, i $ and $j = 2, 3, …, j $ ,and by extension $R_{i,j} = R_{i,j-1} + \\frac{1}{4^{j-1}-1}(R_{i,j-1} - R_{i-1,j-1})$ to reach an approximation. An important thing of note is how the error term is only even powers of h, $O(h^{2n})$ and that it approximates over evenly distributed points on the graph.  "
   ]
  },
  {
   "cell_type": "markdown",
   "id": "195a144d",
   "metadata": {},
   "source": [
    "[2] **Theorem 1** *if $f \\in C[a,b]$, then each column in the Romberg array converges to the integral of $f$. Thus for each j,*\n",
    "\n",
    "$$\\lim_{i\\to\\infty} R_{i,j} = \\int_{a}^{b} f(x) \\,dx$$\n",
    "\n",
    "This says that the limit of the Rombergs integral is convergent to the integral we are trying to approximate."
   ]
  },
  {
   "cell_type": "markdown",
   "id": "5b170f1b",
   "metadata": {},
   "source": [
    "[2] *From textbook pg. 544*"
   ]
  },
  {
   "cell_type": "markdown",
   "id": "d623b121",
   "metadata": {},
   "source": [
    "## 4. Implementation"
   ]
  },
  {
   "cell_type": "markdown",
   "id": "e388ed86",
   "metadata": {},
   "source": [
    "Here is the Implimentatio of the Romberg Method. The inputs are the function to integrate, the lower and upper bounds, and the number of times to use trapezoidal. Then it outputs the matrix containing the Romberg Approximation."
   ]
  },
  {
   "cell_type": "code",
   "execution_count": 1,
   "id": "0d97b1a3",
   "metadata": {},
   "outputs": [],
   "source": [
    "import numpy as np\n",
    "import matplotlib.pyplot as plt"
   ]
  },
  {
   "cell_type": "code",
   "execution_count": 2,
   "id": "67e4de30",
   "metadata": {},
   "outputs": [],
   "source": [
    "def composite_trapezoidal(f,a,b,n):\n",
    "    r = np.zeros((n,n))\n",
    "    h = b - a\n",
    "    r[0,0] = h/2 * (f(a) + f(b))\n",
    "    for i in range(1,n):\n",
    "        sigma = 0\n",
    "        \n",
    "        for k in range(1,2**(i-1)+1):\n",
    "            sigma += f(a + (k - 1/2)*h)\n",
    "               \n",
    "        r[i,0] += 1/2*r[i-1,0] + h/2*(sigma)\n",
    "        h = h/2\n",
    "        \n",
    "    return r"
   ]
  },
  {
   "cell_type": "code",
   "execution_count": 3,
   "id": "37a1e6e5",
   "metadata": {},
   "outputs": [],
   "source": [
    "def romberg(f,a,b,n):\n",
    "    r = np.zeros((n,n))\n",
    "    h = b - a\n",
    "    r[0,0] = h/2 * (f(a) + f(b))\n",
    "    for i in range(1,n):\n",
    "        sigma = 0\n",
    "        \n",
    "        for k in range(1,2**(i-1)+1):\n",
    "            sigma += f(a + (k - 1/2)*h)\n",
    "               \n",
    "        r[i,0] += 1/2*r[i-1,0] + h/2*(sigma)\n",
    "        \n",
    "\n",
    "        for j in range(1,i+1):\n",
    "            r[i,j] = r[i,j-1] + (r[i,j-1] - r[i-1,j-1])/(4**(j)-1)\n",
    "        h = h/2\n",
    "        \n",
    "    return r"
   ]
  },
  {
   "cell_type": "markdown",
   "id": "37289616",
   "metadata": {},
   "source": [
    "## 5. Verification"
   ]
  },
  {
   "cell_type": "markdown",
   "id": "b46600f9",
   "metadata": {},
   "source": [
    "For test 1 we will verify the functions for Composite Trapezoidal rule and Romberg Integration: We will use $I = \\int_{-\\pi/2}^{\\pi/2} cos(x)dx$.\n",
    "\n",
    "\\begin{equation*}\n",
    "    \\begin{aligned}\n",
    "    R_{1,1}=&\\,\\, \\frac{\\pi}{2}\\big[cos(-\\frac{\\pi}{2}) + cos\\frac{\\pi}{2}\\big]=0\\\\\n",
    "    R_{2,1}=&\\,\\,\\frac{\\pi}{4}\\big[cos(-\\frac{\\pi}{2}) + 2cos0+cos\\frac{\\pi}{2}\\big]=1.57079633\\\\\n",
    "    R_{3,1}=&\\,\\, \\frac{\\pi}{8}\\big[cos(-\\frac{\\pi}{2})+ 2\\big(cos(-\\frac{\\pi}{4}) + cos0 +cos\\frac{\\pi}{4}\\big)+cos\\frac{\\pi}{2}\\big]=1.89611890\\\\\n",
    "    R_{4,1}=&\\,\\,\\frac{\\pi}{16}\\big[cos(-\\frac{\\pi}{2}) + 2\\big(cos(-\\frac{3\\pi}{8})+cos(-\\frac{\\pi}{4})+cos0+cos\\frac{\\pi}{4}+cos\\frac{3\\pi}{8}\\big)+cos\\frac{\\pi}{2}\\big]=1.97423160\\\\\n",
    "    R_{5,1}=&\\,\\,\\frac{\\pi}{32}\\big[cos(-\\frac{\\pi}{2})+ 2\\big(cos(-\\frac{7\\pi}{16})+cos(-\\frac{3\\pi}{8})+cos(-\\frac{\\pi}{4})+cos0+cos\\frac{\\pi}{4}+cos\\frac{3\\pi}{8}+cos\\frac{7\\pi}{16}\\big) +cos\\frac{\\pi}{2}\\big]=1.99357034\\\\\n",
    "    \\end{aligned}\n",
    "\\end{equation*}"
   ]
  },
  {
   "cell_type": "code",
   "execution_count": 4,
   "id": "8abeea66",
   "metadata": {
    "scrolled": true
   },
   "outputs": [
    {
     "name": "stdout",
     "output_type": "stream",
     "text": [
      "[[1.92367069e-16 0.00000000e+00 0.00000000e+00 0.00000000e+00\n",
      "  0.00000000e+00]\n",
      " [1.57079633e+00 0.00000000e+00 0.00000000e+00 0.00000000e+00\n",
      "  0.00000000e+00]\n",
      " [1.89611890e+00 0.00000000e+00 0.00000000e+00 0.00000000e+00\n",
      "  0.00000000e+00]\n",
      " [1.97423160e+00 0.00000000e+00 0.00000000e+00 0.00000000e+00\n",
      "  0.00000000e+00]\n",
      " [1.99357034e+00 0.00000000e+00 0.00000000e+00 0.00000000e+00\n",
      "  0.00000000e+00]]\n"
     ]
    }
   ],
   "source": [
    "composite = composite_trapezoidal(np.cos,-np.pi/2,np.pi/2,5)\n",
    "print(composite)"
   ]
  },
  {
   "cell_type": "markdown",
   "id": "9df26caa",
   "metadata": {},
   "source": [
    "Verifying Richardson's step:\\\n",
    "For 4th order\n",
    "\\begin{equation*}\n",
    "    \\begin{aligned}\n",
    "    R_{2,2}=&\\,\\, R_{2,1} + \\frac{1}{3} (R_{2,1} - R_{1,1})=2.09439510\\\\\n",
    "    R_{3,2}=&\\,\\, R_{3,1} + \\frac{1}{3} (R_{3,1} - R_{2,1})=2.00455975\\\\\n",
    "    R_{4,2}=&\\,\\, R_{4,1} + \\frac{1}{3} (R_{4,1} - R_{3,1})=2.00026917\\\\\n",
    "    R_{5,2}=&\\,\\, R_{5,1} + \\frac{1}{3} (R_{5,1} - R_{4,1})=2.00001659\\\\\n",
    "    \\end{aligned}\n",
    "\\end{equation*}\n",
    "\n",
    "For 6th order\n",
    "\\begin{equation*}\n",
    "    \\begin{aligned}\n",
    "    R_{3,3}=&\\,\\, R_{3,2} + \\frac{1}{15} (R_{3,2} - R_{2,2})=1.99857073\\\\\n",
    "    R_{4,3}=&\\,\\, R_{4,2} + \\frac{1}{15} (R_{4,2} - R_{3,2})=1.99998313\\\\\n",
    "    R_{5,3}=&\\,\\, R_{5,2} + \\frac{1}{15} (R_{5,2} - R_{4,2})=1.99999975\\\\\n",
    "    \\end{aligned}\n",
    "\\end{equation*}\n",
    "\n",
    "For 8th order\n",
    "\\begin{equation*}\n",
    "    \\begin{aligned}\n",
    "    R_{4,4}=&\\,\\, R_{4,3} + \\frac{1}{63} (R_{4,3} - R_{3,3})=2.00000555\\\\\n",
    "    R_{5,4}=&\\,\\, R_{5,3} + \\frac{1}{63} (R_{5,3} - R_{4,3})=2.00000002\\\\\n",
    "    \\end{aligned}\n",
    "\\end{equation*}\n",
    "\n",
    "For 10th order\n",
    "\\begin{equation*}\n",
    "    \\begin{aligned}\n",
    "    R_{5,5}=&\\,\\, R_{5,4} + \\frac{1}{255} (R_{5,4} - R_{4,4})=1.99999999\\\\\n",
    "    \\end{aligned}\n",
    "\\end{equation*}"
   ]
  },
  {
   "cell_type": "code",
   "execution_count": 5,
   "id": "7fd32dac",
   "metadata": {},
   "outputs": [
    {
     "name": "stdout",
     "output_type": "stream",
     "text": [
      "1.2246467991473532e-16\n",
      "[[1.92367069e-16 0.00000000e+00 0.00000000e+00 0.00000000e+00\n",
      "  0.00000000e+00]\n",
      " [1.57079633e+00 2.09439510e+00 0.00000000e+00 0.00000000e+00\n",
      "  0.00000000e+00]\n",
      " [1.89611890e+00 2.00455975e+00 1.99857073e+00 0.00000000e+00\n",
      "  0.00000000e+00]\n",
      " [1.97423160e+00 2.00026917e+00 1.99998313e+00 2.00000555e+00\n",
      "  0.00000000e+00]\n",
      " [1.99357034e+00 2.00001659e+00 1.99999975e+00 2.00000002e+00\n",
      "  1.99999999e+00]]\n"
     ]
    }
   ],
   "source": [
    "print(np.cos(-np.pi/2)+np.cos(np.pi/2))\n",
    "romberg_approx = romberg(np.cos,-np.pi/2,np.pi/2,5)\n",
    "print(romberg_approx)"
   ]
  },
  {
   "cell_type": "markdown",
   "id": "aa130ac2",
   "metadata": {},
   "source": [
    "|$h$| $k$| $O(h_{k}^2)$ | $O(h_{k}^4)$ | $O(h_{k}^6)$| $O(h_{k}^8)$||$O(h_{k}^{2n})$|\n",
    "|---| --- | --- | --- |--- |--- |--- | --- |\n",
    "|$\\frac{1}{2}$|$1$|$0$| | | | | |\n",
    "|$\\frac{1}{4}$|$2$|$1.57079633$|$2.09439510$| | | | |\n",
    "|$\\frac{1}{8}$|$3$|$1.89611890$|$2.00455975$|$1.99857073$| | | |\n",
    "|$\\frac{1}{16}$|$4$|$1.97423160$|$2.00026917$|$1.99998313$|$2.00000555$| | |\n",
    "|$\\frac{1}{32}$|$5$|$1.99357034$|$2.00001659$|$1.99999975$|$2.00000002$|$1.99999999$||"
   ]
  },
  {
   "cell_type": "markdown",
   "id": "37a403c0",
   "metadata": {},
   "source": [
    "For test 2, we will plot the truncation error in a log.log graph. We will see that as the order increases, the approximation of the integral becomes more accurate."
   ]
  },
  {
   "cell_type": "code",
   "execution_count": 6,
   "id": "edb33df0",
   "metadata": {},
   "outputs": [],
   "source": [
    "def f(x):\n",
    "    a = x**7 - x**4\n",
    "    return a\n",
    "\n",
    "nbTrapezoidal_approx = 7\n",
    "approx = romberg(f,0,2,nbTrapezoidal_approx)"
   ]
  },
  {
   "cell_type": "code",
   "execution_count": 7,
   "id": "2c0381d2",
   "metadata": {
    "scrolled": false
   },
   "outputs": [
    {
     "data": {
      "image/png": "[encoded data removed]",
      "text/plain": [
       "<Figure size 640x480 with 1 Axes>"
      ]
     },
     "metadata": {},
     "output_type": "display_data"
    },
    {
     "name": "stdout",
     "output_type": "stream",
     "text": [
      "[[8.64000000e+01 2.56000000e+01 2.56000000e+01 2.56000000e+01\n",
      "  2.56000000e+01 2.56000000e+01 2.56000000e+01]\n",
      " [3.04000000e+01 1.17333333e+01 2.56000000e+01 2.56000000e+01\n",
      "  2.56000000e+01 2.56000000e+01 2.56000000e+01]\n",
      " [8.38437500e+00 1.04583333e+00 3.33333333e-01 2.56000000e+01\n",
      "  2.56000000e+01 2.56000000e+01 2.56000000e+01]\n",
      " [2.14877930e+00 7.02473958e-02 5.20833333e-03 0.00000000e+00\n",
      "  2.56000000e+01 2.56000000e+01 2.56000000e+01]\n",
      " [5.40544891e-01 4.46675618e-03 8.13802083e-05 0.00000000e+00\n",
      "  0.00000000e+00 2.56000000e+01 2.56000000e+01]\n",
      " [1.35346496e-01 2.80364354e-04 1.27156575e-06 0.00000000e+00\n",
      "  0.00000000e+00 0.00000000e+00 2.56000000e+01]\n",
      " [3.38497801e-02 1.75413986e-05 1.98682137e-08 0.00000000e+00\n",
      "  0.00000000e+00 0.00000000e+00 0.00000000e+00]]\n"
     ]
    }
   ],
   "source": [
    "exact = 128/5\n",
    "power = 2\n",
    "err = np.abs(exact - approx)\n",
    "h = 1/(2 ** np.arange(0,nbTrapezoidal_approx,1))\n",
    "err_trapezoidal = err[:,0]\n",
    "#plt.loglog(h, h **2, label=\"$h^{2n}$\", color=\"red\", linestyle=\"-\")\n",
    "plt.loglog(h, err_trapezoidal, label=\"Trap\", marker=\"o\", linestyle=\"-\")\n",
    "\n",
    "for m in range (1,nbTrapezoidal_approx):\n",
    "    power += 2\n",
    "    err_Rich_kth_layer = err[m:,m]\n",
    "    #plt.loglog(h[:-m],5 * (10**(-power/1.5)) *h[:-m]**(power), color=\"red\", linestyle=\"-\")\n",
    "    plt.loglog(h[:-m], err_Rich_kth_layer, label=f'$layer = {m}$', marker=\"o\", linestyle=\"-\")\n",
    "\n",
    "plt.legend()\n",
    "plt.title(\"convergence plot\")\n",
    "plt.xlabel(\"$h$\")\n",
    "plt.ylabel(\"absolute error\")\n",
    "plt.show()\n",
    "print(err)"
   ]
  },
  {
   "cell_type": "markdown",
   "id": "c81da65d",
   "metadata": {},
   "source": [
    "## 6. Application"
   ]
  },
  {
   "cell_type": "markdown",
   "id": "df22458b",
   "metadata": {},
   "source": [
    "Use the method of Romberg Integration to approximate the following  integral to the 10th order truncation error.\n",
    "Verify by graphing the absolute error vs. h. \n",
    "\n",
    "$$I = \\int_{0}^{\\pi} x sin(x) dx$$"
   ]
  },
  {
   "cell_type": "code",
   "execution_count": 8,
   "id": "ba260653",
   "metadata": {},
   "outputs": [
    {
     "name": "stdout",
     "output_type": "stream",
     "text": [
      "[[6.04338972e-16 0.00000000e+00 0.00000000e+00 0.00000000e+00\n",
      "  0.00000000e+00]\n",
      " [2.46740110e+00 3.28986813e+00 0.00000000e+00 0.00000000e+00\n",
      "  0.00000000e+00]\n",
      " [2.97841660e+00 3.14875510e+00 3.13934756e+00 0.00000000e+00\n",
      "  0.00000000e+00]\n",
      " [3.10111575e+00 3.14201546e+00 3.14156616e+00 3.14160137e+00\n",
      "  0.00000000e+00]\n",
      " [3.13149297e+00 3.14161871e+00 3.14159226e+00 3.14159268e+00\n",
      "  3.14159265e+00]]\n"
     ]
    }
   ],
   "source": [
    "def f(x):\n",
    "    a = x*np.sin(x)\n",
    "    return a\n",
    "\n",
    "nbTrapezoidal_approx = 5\n",
    "approx = romberg(f,0,np.pi,nbTrapezoidal_approx)\n",
    "print(approx)"
   ]
  },
  {
   "cell_type": "code",
   "execution_count": 9,
   "id": "f225498a",
   "metadata": {},
   "outputs": [
    {
     "data": {
      "image/png": "[encoded data removed]",
      "text/plain": [
       "<Figure size 640x480 with 1 Axes>"
      ]
     },
     "metadata": {},
     "output_type": "display_data"
    }
   ],
   "source": [
    "exact = np.pi\n",
    "power = 2\n",
    "err = np.abs(exact - approx)\n",
    "h = 1/(2 ** np.arange(0,nbTrapezoidal_approx,1))\n",
    "err_trapezoidal = err[:,0]\n",
    "plt.loglog(h, h **2, label=\"$h^{2n + 2}$\", color=\"red\", linestyle=\"-\")\n",
    "plt.loglog(h, err_trapezoidal, label=\"Trap\", marker=\"o\", linestyle=\"-\")\n",
    "\n",
    "for m in range (1,nbTrapezoidal_approx):\n",
    "    power += 2\n",
    "    err_Rich_kth_layer = err[m:,m]\n",
    "    plt.loglog(h[:-m],5 * (10**(-power/1.5)) *h[:-m]**(power), color=\"red\", linestyle=\"-\")\n",
    "    plt.loglog(h[:-m], err_Rich_kth_layer, label=f'$layer = {m}$', marker=\"o\", linestyle=\"-\")\n",
    "\n",
    "plt.legend()\n",
    "plt.title(\"convergence plot\")\n",
    "plt.xlabel(\"$h$\")\n",
    "plt.ylabel(\"absolute error\")\n",
    "plt.show()"
   ]
  },
  {
   "cell_type": "markdown",
   "id": "6758d6d8",
   "metadata": {},
   "source": [
    "## 7. Conclusion"
   ]
  },
  {
   "cell_type": "markdown",
   "id": "4bdc790e",
   "metadata": {},
   "source": [
    "Romberg Integration is a method to quickly approximate an ingetral to  a higher order truncation error, with low computational cost. \n",
    "- It combines known methods of Composite Trapezoidal Rule and Richardson Extrapolation to perform its operations and is used to improve accuracy of the Composite Trapezoidal rule by using extrapolation. \n",
    "- Results can be obtained with minimal computational cost using familar methods and can be presented in an easy to read table.\n",
    "\n",
    "Through analysis of Richards Extrapolation we are able to use a general Romberg Integration Algorithm consisting of a linear combination of Romberg terms. We can apply Romberg integration with various functions, and demonstrated the ability to achieve higher order approximations quickly with a log-log graph. \n",
    "\n",
    "Romberg integration has its strengths and weaknesses like every method.\n",
    "- Gets a high order approximation with little computations.\n",
    "- Builds on existing methods.\n",
    "- Information presented in an easy to read table.\n",
    "- Extrapolation is formed by a combination of values.\n",
    "\n",
    "Some weaknesses are\n",
    "- The approximation hits a round off error as order in increased. \n",
    "- Goes along even spaced intervals might miss the information of the curve.\n",
    "- Does not work for open intervals.\n",
    "\n",
    "\n",
    "\n"
   ]
  },
  {
   "cell_type": "markdown",
   "id": "7a94d7b2",
   "metadata": {},
   "source": [
    "## 8. References"
   ]
  },
  {
   "cell_type": "markdown",
   "id": "690aa78c",
   "metadata": {},
   "source": [
    "[1] Burden, R. L., Fairies, J. D., & Reynolds, A. C. (2011). Numerical Analysis. Brooks/Cole.\n",
    "\tp. (211-212)\n",
    "\n",
    "[2] p.(544)\n"
   ]
  },
  {
   "cell_type": "markdown",
   "id": "c6aa8f39",
   "metadata": {},
   "source": [
    "### Congratulations! It is done!\n",
    "\n",
    "Please submit your semester project on Canvas following the procedure described in the Jupyter notebook `slides_review_basics_programming`."
   ]
  }
 ],
 "metadata": {
  "kernelspec": {
   "display_name": "Python 3 (ipykernel)",
   "language": "python",
   "name": "python3"
  },
  "language_info": {
   "codemirror_mode": {
    "name": "ipython",
    "version": 3
   },
   "file_extension": ".py",
   "mimetype": "text/x-python",
   "name": "python",
   "nbconvert_exporter": "python",
   "pygments_lexer": "ipython3",
   "version": "3.11.4"
  }
 },
 "nbformat": 4,
 "nbformat_minor": 5
}
