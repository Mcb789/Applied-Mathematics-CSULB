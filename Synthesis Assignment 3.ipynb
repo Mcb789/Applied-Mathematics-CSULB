{
 "cells": [
  {
   "cell_type": "markdown",
   "id": "091562b5",
   "metadata": {},
   "source": [
    "### <p style=\"text-align: right;\"> Macy Boren 11/10/2023\n",
    "   \n",
    "\n",
    "# Math 361A Synthesis Assignment 3"
   ]
  },
  {
   "cell_type": "markdown",
   "id": "98e56a58",
   "metadata": {},
   "source": [
    "This Synthesis Assignement is a collection of my best work from problem sets 8 - 10."
   ]
  },
  {
   "cell_type": "markdown",
   "id": "c2cb03ef",
   "metadata": {},
   "source": [
    "## Part 1\n",
    "\n",
    "This section includes three problems from the assigned work that I can show improvement on through the semester with proper form and notation."
   ]
  },
  {
   "cell_type": "markdown",
   "id": "688d8e38",
   "metadata": {},
   "source": [
    "**Question 1**\n",
    "\n",
    "For these problems, you do not need to justify your examples \"using the definition of convergence\" but should give some informal justification for why it satisfied the given properties.\n",
    "\n",
    "a) Find a piecewise-defined function $f : [0,5) \\cup (5,10] \\rightarrow \\mathbb{R}$ for which $\\displaystyle{\\lim_{x \\to 5}f(x)} = 3$.\n",
    "\n",
    "b)  Find a function $f : [0,5) \\cup (5,10] \\rightarrow \\mathbb{R}$ defined by a non-piecewise formula, for which $\\displaystyle{\\lim_{x \\to 5}f(x)} = 3$.\n",
    "\n",
    "c) Find a function $f: X \\rightarrow \\mathbb{R}$ and $ A \\subset X$ for which $\\displaystyle{\\lim_{x \\to 5}f(x)} \\neq 3$, but for which $f|_A : A \\rightarrow \\mathbb{R}$ satisfies $\\displaystyle{\\lim_{x \\to 5}f_A(x) = 3}$.\n",
    "\n",
    "d) Explain why the Dirichlet function $f: \\mathbb{R} \\rightarrow \\mathbb{R}$,\n",
    "$f(x) = \\left\\{ \\begin{array}{rcl}\n",
    "1 & \\mbox{if}\n",
    "& x \\in \\mathbb{Q} \\\\ 0 & \\mbox{if} & x \\notin \\mathbb{Q} \n",
    "\\end{array}\\right.\n",
    "$\n",
    " has  $\\displaystyle{\\lim_{x \\to \\frac{1}{2}}f(x)} \\neq 1$. But for the restricted function $\\displaystyle{\\lim_{x \\to \\frac{1}{2}}f|_{\\mathbb{Q}}(x)} = 1$."
   ]
  },
  {
   "cell_type": "markdown",
   "id": "056cd895",
   "metadata": {},
   "source": [
    "**Solution**\n",
    "\n",
    "a) An example of a piecewise-defined function along the given domain for which the limit $\\displaystyle{\\lim_{x \\to 5}f(x)} = 3$ is given as following.\n",
    "\n",
    "$$f(x) = \\left\\{ \\begin{array}{rcl}\n",
    "x - 2 & \\mbox{if} & 0 \\leq x < 5  \\\\ \n",
    "\\sqrt{x + 4} & \\mbox{if} &  5 < x \\leq 10\n",
    "\\end{array}\\right.$$\n",
    "\n",
    "Here we are given two different functions to create a piecewise function on the given domain $[0,5) \\cup (5,10]$ where 5 is not included in the interval."
   ]
  },
  {
   "cell_type": "markdown",
   "id": "1c746d4f",
   "metadata": {},
   "source": [
    "$\\,$\n",
    "\n",
    "$\\,$\n",
    "\n",
    "$\\,$\n",
    "\n",
    "$\\,$"
   ]
  },
  {
   "cell_type": "markdown",
   "id": "4380c48b",
   "metadata": {},
   "source": [
    "b) We are only asked to find one equation that satisfies the limit $\\displaystyle{\\lim_{x \\to 5}f(x)} = 3$. In order to do so, there has to be a point at which $x \\neq 5$. This can be done by putting $x - 5$ in the denominator. But, we need the limit to equal 3, so if we set the numerator equal to the denominator, this will simplify to 1. Then we can multiply this by 3 to get our limit equal to 3.\n",
    "\n",
    "$$ f(x) = 3 \\big( \\frac{x-5}{x-5} \\big)$$"
   ]
  },
  {
   "cell_type": "markdown",
   "id": "3bcf5718",
   "metadata": {},
   "source": [
    "c) The simplest funtion that satisfies these conditions is $f(x) = x$ and here is why. If we say $x \\in X$, all real numbers, then the $\\displaystyle{\\lim_{x \\to 5}f(x)} \\neq 3$, which is the first point satisfied. Now consider the second case, $f|_A : A \\rightarrow \\mathbb{R}$ satisfies $\\displaystyle{\\lim_{x \\to 5}f_A(x) = 3}$. We need the function evaluated at $A$ to satisfy the limit. Well we can do this by letting $A \\in {3}$. So from anywhere, $f(A)$ will always equal 3, and therefore satisfies the limit."
   ]
  },
  {
   "attachments": {},
   "cell_type": "markdown",
   "id": "13d5bbb1",
   "metadata": {},
   "source": [
    "d) The limit $\\displaystyle{\\lim_{x \\to \\frac{1}{2}}f(x)} \\neq 1$ is true becuase $x$ is either rational or it is not. I can not simply find a sequence that is convergent to $\\frac{1}{2}$ in fact, the $\\displaystyle{\\lim_{x \\to c}f(x)}$ does not exist. Now if we are going to restrict the function to where $f$ is only evaluated at rational $x$ then yes, the limit will always be equal to 1.\n",
    "\n",
    "$\\,$"
   ]
  },
  {
   "cell_type": "markdown",
   "id": "bf26ed0d",
   "metadata": {},
   "source": [
    "**Question 2**\n",
    "\n",
    "a) Write up the proof nicely that $\\displaystyle{\\lim_{x \\to 3} (2x -1)} = 5$.\n",
    "\n",
    "b) Write up the proof nicely that $\\displaystyle{\\lim_{x \\to 3}\\frac{2x-6}{x-3}} = 2$."
   ]
  },
  {
   "cell_type": "markdown",
   "id": "bc489c53",
   "metadata": {},
   "source": [
    "**Solution**\n",
    "\n",
    "**Definition 6.8**"
   ]
  },
  {
   "cell_type": "markdown",
   "id": "09cd80f1",
   "metadata": {},
   "source": [
    "\n",
    "$\\,$\n",
    "\n",
    "$\\,$\n",
    "\n",
    "a) Consider the limit $\\displaystyle{\\lim_{x \\to 3} (2x -1)} = 5$. Prove that the limit is true.\n",
    "\n",
    "First, I will want to do a little bit of scratch work to solve for $\\delta$. I want to show that\n",
    "\n",
    "\\begin{equation*}\n",
    "    \\begin{aligned}\n",
    "    |f(x) - L| < &\\,\\,\\epsilon \\\\\n",
    "    |(2x -1) - 5| < &\\,\\,\\epsilon \\\\\n",
    "    |2x - 6| < &\\,\\,\\epsilon\\\\\n",
    "    2|x-3|< &\\,\\,\\epsilon\\\\\n",
    "    |x-3|< &\\,\\,\\frac{\\epsilon}{2}\\\\\n",
    "    \\end{aligned}\n",
    "\\end{equation*}    \n",
    "\n",
    "let $\\delta = \\frac{\\epsilon}{2}$.\n",
    "\n",
    "Then to continue the proof.\n",
    "\n",
    "Let $\\epsilon > 0 $ and $\\delta = \\,\\,\\frac{\\epsilon}{2}$. Then for any $x$ where $0<|x-3|<\\delta$,\n",
    "\n",
    "\n",
    "\\begin{equation*}\n",
    "    \\begin{aligned}\n",
    "    |f(x) - L| = &\\,\\,|2x -1 -5| \\\\\n",
    "    = &\\,\\,|2x - 6| \\\\\n",
    "    = &\\,\\,2|x-3|\\\\\n",
    "    < &\\,\\,2 * \\delta\\\\\n",
    "    = &\\,\\,2 * \\frac{\\epsilon}{2} = \\epsilon\\\\\n",
    "    \\end{aligned}\n",
    "\\end{equation*}    \n",
    "\n",
    "Therefore $\\displaystyle{\\lim_{x \\to 3}(2x-1)}$ is equal to $5$.\n"
   ]
  },
  {
   "cell_type": "markdown",
   "id": "35c73594",
   "metadata": {},
   "source": [
    "b) Consider the limit $\\displaystyle{\\lim_{x \\to 3}\\frac{2x-6}{x-3}} = 2$. Prove that the limit is true.\n",
    "\n",
    "First, I will want to do a little bit of scratch work to solve for $\\delta$. I want to show that\n",
    "\n",
    "\\begin{equation*}\n",
    "    \\begin{aligned}\n",
    "    |f(x) - L| < &\\,\\,\\epsilon \\\\\n",
    "    |\\frac{2x-6}{x-3} -2| < &\\,\\,\\epsilon \\\\\n",
    "    |\\frac{2(x-3)}{x-3} -2| < &\\,\\,\\epsilon\\\\\n",
    "    |2 - 2|< &\\,\\,\\epsilon\\\\\n",
    "    |0|< &\\,\\,\\epsilon\\\\\n",
    "    \\end{aligned}\n",
    "\\end{equation*}    \n",
    "\n",
    "let $\\delta = \\epsilon$.\n",
    "\n",
    "Then to continue the proof.\n",
    "\n",
    "Let $\\epsilon > 0 $ and $\\delta = \\epsilon$. Then for any $x$ where $0<|x-3|<\\delta$,\n",
    "\n",
    "\n",
    "\\begin{equation*}\n",
    "    \\begin{aligned}\n",
    "    |f(x) - L| = &\\,\\,\\big|\\frac{2x-6}{x-3} -2\\big| \\\\\n",
    "    = &\\,\\,\\big|\\frac{2(x-3)}{x-3} -2\\big| \\\\\n",
    "    = &\\,\\,2\\big|\\frac{x-3}{x-3} -1\\big|\\\\\n",
    "    = &\\,\\,2\\big|1 -1\\big|\\\\\n",
    "    = &\\,\\, 0\n",
    "    \\end{aligned}\n",
    "\\end{equation*}    \n",
    "\n",
    "Becuase this equals 0, then it is true for all $\\epsilon$.\n",
    "Therefore $\\displaystyle{\\lim_{x \\to 3}\\frac{2x-6}{x-3}}$ is equal to $2$.\n"
   ]
  },
  {
   "cell_type": "markdown",
   "id": "af044a39",
   "metadata": {},
   "source": [
    "**Question 3**\n",
    "\n",
    "Apply the intermediate value theorem to the following problems:\n",
    "\n",
    "a) Show that the function $f(x) = x^5 - 2x + 1$ has a zero on the interval $[-2,2]$. Make sure you cite/provide warrents for your claims.\n",
    "\n",
    "b) *Exercise 6.46* Let $f$ and $g$ be continuous functions on $[a,b]$, and suppose that $f(a) < g(a)$ while $f(b) > g(b)$. Prove that $f(c) = g(c)$ for some $c \\in [a,b]$."
   ]
  },
  {
   "cell_type": "markdown",
   "id": "c1581d97",
   "metadata": {},
   "source": [
    "**Solution**\n",
    "\n",
    "a) In order to apply the Intermediate Value Therorem we need to confirm that the function is continuous on the interval $[-2,2]$. This can be done by knowing that polynomials are continuous functions.\n",
    "\n",
    "Now we know that $f(x) = x^5 -2x + 1$ is continuous we can apply the intermediate value theorem. \n",
    "\n",
    "We want to show that $f(a) < 0$ and $f(b) > 0$ to demonstrate the change of signs. Let $a = -2$ and $b = 2$ from the interval.\n",
    "\n",
    "Then $f(a)$ is as following, \n",
    "\n",
    "\\begin{equation*}\n",
    "    \\begin{aligned}\n",
    "    f(a) = &\\,\\,a^5 - 2a + 1\\\\\n",
    "    f(-2) = &\\,\\,(-2)^5 - 2(-2) + 1\\\\\n",
    "    = &\\,\\, -32 + 4 + 1 \\\\\n",
    "    = &\\,\\, -27\\\\\n",
    "   -27 < &\\,\\, 0\n",
    "    \\end{aligned}\n",
    "\\end{equation*}  \n",
    "\n",
    "and $f(b)$ is as following,\n",
    "\n",
    "\\begin{equation*}\n",
    "    \\begin{aligned}\n",
    "    f(b) = &\\,\\,b^5 - 2b + 1\\\\\n",
    "    f(2) = &\\,\\,(2)^5 - 2(2) + 1\\\\\n",
    "    = &\\,\\, 32 - 4 + 1 \\\\\n",
    "    = &\\,\\, 29\\\\\n",
    "   0 < &\\,\\, 29\n",
    "    \\end{aligned}\n",
    "\\end{equation*}  "
   ]
  },
  {
   "cell_type": "markdown",
   "id": "420d4a9c",
   "metadata": {},
   "source": [
    "From here we can conclude that by the Intermediate Value Theorem, there exists a $c \\in (a,b)$ that $c = 0$. Meaning there is at least one zero on the interval. "
   ]
  },
  {
   "cell_type": "markdown",
   "id": "4916afc0",
   "metadata": {},
   "source": [
    " \n",
    " "
   ]
  },
  {
   "cell_type": "markdown",
   "id": "7cc3d940",
   "metadata": {},
   "source": [
    "b) We are given that $f$ and $g$ are continuous on the interval $[a,b]$. We also know that $f(a) < g(a)$ and $f(b) > g(b)$. We want to prove that $f(c) = g(c)$. Lets begin our proof.\n",
    "\n",
    "Proposition: Let $f$ and $g$ be continuous on the interval $[a,b]$ and suppose that $f(a) < g(a)$ and $f(b) > g(b)$.\n",
    "\n",
    "$\\;\\;\\;\\;\\;\\;$ Consider the functions $f$ and $g$.\n",
    "\n",
    "$\\;\\;\\;\\;\\;\\;\\;\\;\\;\\;\\;\\;$ Because of continuity, we can say $(f-g)(a) < 0$ and $(f-g)(b) > 0$.\n",
    "\n",
    "$\\;\\;\\;\\;\\;\\;\\;\\;\\;\\;\\;\\;$ Therefore we can apply to IVT to show there exist $c \\in [a,b]$ such that $(f-g)(c) = 0$.\n",
    "\n",
    "\\begin{equation*}\n",
    "    \\begin{aligned}\n",
    "    (f-g)(c) = &\\,\\, 0 \\\\\n",
    "    f(c) - g(c) = &\\,\\,0\\\\\n",
    "    f(c)= &\\,\\, g(c) \\\\\n",
    "    \\end{aligned}\n",
    "\\end{equation*}  \n",
    "\n",
    "$\\;\\;\\;\\;\\;\\;$ Therefore there exists a $c$ such that $f(c) = g(c)$.\n"
   ]
  },
  {
   "cell_type": "markdown",
   "id": "45c94f7f",
   "metadata": {},
   "source": [
    "## Part 2\n",
    "\n",
    "This section include additional problems not assigned, but come from the optional practice problems."
   ]
  },
  {
   "cell_type": "markdown",
   "id": "2d31d5af",
   "metadata": {},
   "source": [
    "**Question 1**\n",
    "\n",
    "*Exercise 6.22* Suppose that a function $g$ is continuous at 0 and $g(0) = 0$, and $f$ is some function which satisfies $|f(x)| \\leq |g(x)|$ for all $x$. Show that $f$ is also continuous at 0."
   ]
  },
  {
   "attachments": {},
   "cell_type": "markdown",
   "id": "4d076693",
   "metadata": {},
   "source": [
    "$\\,$\n",
    "\n",
    "$\\,$\n",
    "\n",
    "$\\,$\n",
    "\n",
    "$\\,$\n",
    "\n",
    "**Solution**\n",
    "\n",
    "We know that $g(0) = 0$ and is continuous at 0. Therefore we can show that,\n",
    "\n",
    "\\begin{equation*}\n",
    "    \\begin{aligned}\n",
    "    |g(x) - 0| < &\\,\\, \\epsilon \\\\\n",
    "    |g(x)| < &\\,\\,\\epsilon\\\\\n",
    "    g(x)< &\\,\\, \\epsilon \\\\\n",
    "    \\end{aligned}\n",
    "\\end{equation*}  \n",
    "\n",
    "and if $|f(x)| \\leq |g(x)|$ then we can say,$$|f(x)|\\leq|g(x)| < \\epsilon $$\n",
    "\n",
    "Therefore, $f$ is also continuous at 0.\n"
   ]
  },
  {
   "cell_type": "markdown",
   "id": "62b5d3f5",
   "metadata": {},
   "source": [
    "**Question 2**\n",
    "\n",
    "*Exercise 6.28*\n",
    "\n",
    "a) Prove that if $f: A \\rightarrow \\mathbb{R}$ is continuous, then $|f|$ is continuous.\n",
    "\n",
    "b) Give an example where $|f|$ is continuous but $f$ is not continuous. "
   ]
  },
  {
   "cell_type": "markdown",
   "id": "7d68dda0",
   "metadata": {},
   "source": [
    "**Solution**\n",
    "\n",
    "a) Proposition: if $f: A \\rightarrow \\mathbb{R}$ is continuous, then $|f|$ is continuous.\n",
    "\n",
    "Proof:\n",
    "Let $f: A \\rightarrow \\mathbb{R}$ be continuous.\n",
    "\n",
    "$\\;\\;\\;\\;\\;\\;$ Let $a \\in A, \\epsilon > 0$ and $\\delta >0$.\n",
    "\n",
    "$\\;\\;\\;\\;\\;\\;$  Then$ |f(x) - f(a)| < \\epsilon$ where $|x-a|<\\delta$.\n",
    "\n",
    "$\\;\\;\\;\\;\\;\\;$ By the reverse triangle inequality $$||f(x)| - |f(a)|| \\leq |f(x) - f(a)| < \\epsilon$$\n",
    "\n",
    "$\\;\\;\\;\\;\\;\\;$ and where ever $|x-a|<\\delta$, \n",
    "\n",
    "therefore $|f|$ is continuous.\n"
   ]
  },
  {
   "cell_type": "markdown",
   "id": "c544a57e",
   "metadata": {},
   "source": [
    "b) An example of a function in which $|f|$ is continuous but $f$ is not is would be this example of a piecewise function.\n",
    "\n",
    "$$f(x) = \\left\\{ \\begin{array}{rcl}\n",
    "2 & \\mbox{if} & 0 \\leq x \\leq 5  \\\\ \n",
    "-2 & \\mbox{if} &  5 < x \\leq 10\n",
    "\\end{array}\\right.$$\n",
    "\n",
    "This function is not continuous becuase the limits from the right and from the left are different. \n",
    "\n",
    "The $|f(x)|$ on the other hand, is continuous. Because the -2 from $(5,10]$ becomes positive."
   ]
  },
  {
   "cell_type": "markdown",
   "id": "c6da261a",
   "metadata": {},
   "source": [
    "## Part 3\n",
    "\n",
    "This section is a discussion of my work and derivatives in an analysis done by Zandieh. "
   ]
  }
 ],
 "metadata": {
  "kernelspec": {
   "display_name": "Python 3 (ipykernel)",
   "language": "python",
   "name": "python3"
  },
  "language_info": {
   "codemirror_mode": {
    "name": "ipython",
    "version": 3
   },
   "file_extension": ".py",
   "mimetype": "text/x-python",
   "name": "python",
   "nbconvert_exporter": "python",
   "pygments_lexer": "ipython3",
   "version": "3.11.4"
  }
 },
 "nbformat": 4,
 "nbformat_minor": 5
}
