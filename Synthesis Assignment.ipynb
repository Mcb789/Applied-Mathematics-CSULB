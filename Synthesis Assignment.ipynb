{
 "cells": [
  {
   "cell_type": "markdown",
   "id": "cd0898e0",
   "metadata": {},
   "source": [
    "### <p style=\"text-align: right;\"> Macy Boren 9/17/2023\n",
    "   \n",
    "\n",
    "# Math 361A Synthesis Assignment 1"
   ]
  },
  {
   "cell_type": "markdown",
   "id": "ce967f5a",
   "metadata": {},
   "source": [
    "This Synthesis is a collection of works from weeks 1-4 of Math 361A, Math Analysis, that showcases my growth and best work done in class."
   ]
  },
  {
   "cell_type": "markdown",
   "id": "a8983bbd",
   "metadata": {},
   "source": [
    "## Part 1\n",
    "\n",
    "This section includes three problems from the assigned work that I can show improvement on through the semester with proper form and notation."
   ]
  },
  {
   "cell_type": "markdown",
   "id": "25fc990e",
   "metadata": {},
   "source": [
    "**Question 1**\n",
    "\n",
    "We will say a function $f : \\mathbb{R} \\rightarrow \\mathbb{R}$ is called...\n",
    "* ... D1 exactly when: For every $x \\in \\mathbb{R}, f(x) \\geq 0$\n",
    "* ... D2 exactly when: There exists an $x \\in \\mathbb{R}$ such that $f(x) > 0$\n",
    "\n",
    "Give two *separating examples* to show that D1 and D2 are not the same definition (and in fact neither implies the other):\n",
    "1. An example that is D2 but not D1\n",
    "2. An example that is D1 but not D2"
   ]
  },
  {
   "cell_type": "markdown",
   "id": "2a926861",
   "metadata": {},
   "source": [
    "**Solution**"
   ]
  },
  {
   "cell_type": "markdown",
   "id": "d77f04bb",
   "metadata": {},
   "source": [
    "*An example that is D2 but not D1:*\n",
    "\n",
    "Two show that this statement is true, we must provide a function that demonstrates there exists an $x$ that $f(x) > 0$ but not for every $x$.\n",
    "\n",
    "Consider the function $f(x) = x - 1$. \n",
    "\n",
    "When $x = 3$ then $f(3) = 3 - 1 = 2$. Which is one $x$ that exists to satisfy D2.\n",
    "\n",
    "When $x = -3$ then $f(-3) = -3 - 1 = -4$. Which is one $x$ that does not satisfy D1. \n",
    "\n",
    "Therefore, $f(x)$ exists only to satisfy D2 but not D1."
   ]
  },
  {
   "cell_type": "markdown",
   "id": "7262aeca",
   "metadata": {},
   "source": [
    " "
   ]
  },
  {
   "cell_type": "markdown",
   "id": "8ccd4f81",
   "metadata": {},
   "source": [
    "*An example that is D1 but not D2:*"
   ]
  },
  {
   "cell_type": "markdown",
   "id": "38a81c06",
   "metadata": {},
   "source": [
    "This statement is true only when, $f(x)$ = 0 for all $x$.\n",
    "\n",
    "Because D1 requires that for every $x, f(x) \\geq 0$ and D2 requires at least one $x, f(x) > 0$ the only fuction that is D1 but not D2 is one that equals 0 at every x. The best funtion to demonstrate this is $f(x) = 0$.\n",
    "\n",
    "Therefore, $f(x)$ exists only to satisfy D1 but not D2."
   ]
  },
  {
   "cell_type": "markdown",
   "id": "860d6506",
   "metadata": {},
   "source": [
    " "
   ]
  },
  {
   "cell_type": "markdown",
   "id": "f0a11bd6",
   "metadata": {},
   "source": [
    "**Question 2**\n",
    "\n",
    "*Example 3.2* Give an example satisfying the requested condition or prove that no such example can exist.\n",
    "1. A sequence with infinitely many 0s that does not converge to 0.\n",
    "2. A sequence of irrational numbers that converges to a rational number."
   ]
  },
  {
   "cell_type": "markdown",
   "id": "b6993bb7",
   "metadata": {},
   "source": [
    "**Solution**"
   ]
  },
  {
   "cell_type": "markdown",
   "id": "e3da5ea0",
   "metadata": {},
   "source": [
    "*A sequence with infinitely many 0s that does not converge to 0:*\n",
    "\n",
    "My first intuition to satisfy this statement is presenting a set of real numbers that consists of 0s, but show that it does not converge to 0.\n",
    "\n",
    "Take the infinite set $[0,1,0,2,0,3,0,4,\\dots]$ . We can use this set as inspiration to find sequence that satisfies the conditions. \n",
    "\n",
    "Consider the sequence $a_n = cos(n\\frac{\\pi}{2})$ and its first 4 terms.\n",
    "\n",
    "\\begin{equation*}\n",
    "    \\begin{aligned}\n",
    "    a_1 = &\\,\\,\\cos(\\frac{\\pi}{2}) = 0 \\\\\n",
    "    a_2 = &\\,\\,\\cos(\\pi) = -1 \\\\\n",
    "    a_3 = &\\,\\,\\cos(\\frac{3\\pi}{2}) = 0\\\\\n",
    "    a_4 = &\\,\\,\\cos(2\\pi) = 1\\\\\n",
    "    \\end{aligned}\n",
    "\\end{equation*}\n",
    "\n",
    "Here we see that $a_n$ is a divergent sequence, therefore concluding that $a_n$ is a sequence with infinitely many 0s that does not converge to 0."
   ]
  },
  {
   "cell_type": "markdown",
   "id": "845ca738",
   "metadata": {},
   "source": [
    " "
   ]
  },
  {
   "cell_type": "markdown",
   "id": "5d754ea1",
   "metadata": {},
   "source": [
    "*A sequence of irrational numbers that converges to a rational number:*\n",
    "\n",
    "First we need to identify irrational numbers and rational numbers. Irrational numbers are any real numbers that can cannot be expressed as the quotient of two integers, and rational numbers can be expressed as the quotient of two integers. Using this definition, $\\pi$ is considered to be an irrational number. \n",
    "\n",
    "Using the definition of rational numbers, the sequence $a_n = \\frac{1}{n\\pi}$ is a sequence of irrational numbers.\n",
    "\n",
    "Consider the sequence $a_n = \\frac{1}{n\\pi}$ as $n \\rightarrow \\infty$.\n",
    "\n",
    "\\begin{equation*}\n",
    "    \\begin{aligned}\n",
    "    a_1 = &\\,\\,\\frac{1}{\\pi}\\\\\n",
    "    a_2 = &\\,\\,\\frac{1}{2\\pi}\\\\\n",
    "    a_3 = &\\,\\,\\frac{1}{3\\pi}\\\\ \\vdots\\\\\n",
    "    a_{10000} = &\\,\\,\\frac{1}{10000\\pi} \\approx 0.000318 \\cdots\\\\\n",
    "    \\vdots\n",
    "    \\end{aligned}\n",
    "\\end{equation*}\n",
    "\n",
    "With this sequence as $n \\rightarrow \\infty$ $a_n \\rightarrow 0$. 0 is a rational number and $a_n$ is comprised of irrational numbers therefore, showing that the statement is valid.\n"
   ]
  },
  {
   "cell_type": "markdown",
   "id": "3f93ce7e",
   "metadata": {},
   "source": [
    " "
   ]
  },
  {
   "cell_type": "markdown",
   "id": "da674f26",
   "metadata": {},
   "source": [
    "**Question 3**\n",
    "\n",
    "Exercise 3.4 Prove the following using the definition of sequence convergence. \n",
    "1. Let $a_n = 7 - \\frac{1}{\\sqrt{n}}$. Show that $a_n \\rightarrow 7$ as $n \\rightarrow \\infty$."
   ]
  },
  {
   "cell_type": "markdown",
   "id": "a603e55f",
   "metadata": {},
   "source": [
    "**Solution**\n",
    "\n",
    "**Definition 3.7**\n",
    "A sequence ($a_n$) *converges* to $a \\in \\mathbb{R}$ of for all $\\epsilon > 0$ there exists some $N$, $N \\in \\mathbb{N}$ such that $a_n$ is in the $\\epsilon$-neighborhood of a for all $n > N$.\n",
    "\n",
    "Before the proof begins, some calculation to find the lower bound for $n$ will help later on.\n",
    "\n",
    "\\begin{equation*}\n",
    "    \\begin{aligned}\n",
    "    |a_n - a| < &\\,\\,\\epsilon\\\\\n",
    "    |(7-\\frac{1}{\\sqrt{n}}) -7| < &\\,\\,\\epsilon\\\\\n",
    "    |(-\\frac{1}{\\sqrt{n}})| < &\\,\\,\\epsilon\\\\\n",
    "    \\frac{1}{\\sqrt{n}} < &\\,\\,\\epsilon\\\\\n",
    "    \\sqrt{n} > &\\,\\,\\frac{1}{\\epsilon}\\\\\n",
    "    n > &\\,\\,\\frac{1}{\\epsilon^2}\\\\\n",
    "    \\end{aligned}\n",
    "\\end{equation*}\n",
    "\n",
    "As long as $N = \\frac{1}{\\epsilon^2}$ then for any $n>N$ the statement will be true. Now we can begin the proof.\n",
    "\n",
    "*Proposition*: For every error $\\epsilon > 0$, there exists an $N \\in \\mathbb{N}$ so that for every $n>N, |a_n - 7| < \\epsilon$.\n",
    "\n",
    "Consider the sequence $(7-\\frac{1}{\\sqrt{n}})_n$. Let $\\epsilon > 0$ and set $N = \\frac{1}{\\epsilon^2}$. \n",
    "\n",
    "Then for any $n > N$,\n",
    "\n",
    "\\begin{equation*}\n",
    "    |a_n - a| = |(7-\\frac{1}{\\sqrt{n}}) -7| = \\frac{1}{\\sqrt{n}} < \\frac{1}{\\sqrt{N}} = \\frac{1}{\\sqrt{\\frac{1}{\\epsilon^2}}} = \\epsilon\n",
    "\\end{equation*}\n",
    "\n",
    "That is,  for all $e>0$ and for any $n>N$, $|a_n - 7| < \\epsilon$.\n",
    "\n",
    "\n",
    "\n",
    "Therefore, the sequence $a_n = 7-\\frac{1}{\\sqrt{n}} \\rightarrow 7$.\n"
   ]
  },
  {
   "cell_type": "markdown",
   "id": "a6591826",
   "metadata": {},
   "source": [
    "## Part 2\n",
    "\n",
    "This section include addition problems not assigned, but come from the optional practice problems."
   ]
  },
  {
   "cell_type": "markdown",
   "id": "eeea4135",
   "metadata": {},
   "source": [
    "**Question 1**\n",
    "\n",
    "*Example 3.2* Give an example satisfying the requested condition or prove that no such example can exist.\n",
    "1. A sequence with infinitely many 0s that converges to a non-zero number.\n",
    "2. A sequence of positive numbers that converges to a negative number."
   ]
  },
  {
   "cell_type": "markdown",
   "id": "268a9926",
   "metadata": {},
   "source": [
    "**Solution**\n",
    "\n",
    "*A sequence with infinitely many 0s that converges to a non-zero number:*\n",
    "\n",
    "In order for a sequence to have infinitely many 0s it must cross 0 and infinite amount of times, which would make the sequence divergent. The sequece would continuously return to 0 therefore meaning it could never converge to a non-zero number. The other case when a sequence has infinitely many 0s, is when the sequence itself in made up entirely of 0s, but in this case the sequence only converges to 0. Therefore, proving the statement false.\n",
    "\n",
    "*A sequence of positive numbers that converges to a negative number.*\n",
    "\n",
    "In order for a sequence to converge, as the parameter, $x$, increases the values of the sequence must get closer and closer to a specific value. For a sequence to converge to a negative number, that requires some of the numbers in the sequence to be negative. In turn, of the series is made entirely up of positive values, then the sequece must converge to a positive value. \n",
    "\n",
    "Consider the sequence $a_n = \\frac{1}{n}$ as $n \\rightarrow \\infty$.\n",
    "\n",
    "\\begin{equation*}\n",
    "    \\begin{aligned}\n",
    "    a_1 = &\\,\\,\\frac{1}{1}=1\\\\ \n",
    "    a_2 = &\\,\\,\\frac{1}{2}\\\\ \n",
    "    a_3 = &\\,\\,\\frac{1}{3}\\\\\n",
    "    a_{10000} = &\\,\\,\\frac{1}{10000} \\\\\n",
    "    \\vdots\n",
    "    \\end{aligned}\n",
    "\\end{equation*}\n",
    "\n",
    "This sequence is made up of entirely positive values and converges to 0, unable to converge to a negative value.\n",
    "\n",
    "Consider the sequences $a_n = \\frac{1}{n} - 1$.\n",
    "\n",
    "\\begin{equation*}\n",
    "    \\begin{aligned}\n",
    "    a_1 = &\\,\\,\\frac{1}{1} - 1 = 0\\\\\n",
    "    a_2 = &\\,\\,\\frac{1}{2}-1=\\frac{-1}{2}\\\\\n",
    "    a_3 = &\\,\\,\\frac{1}{3}-1=\\frac{-2}{3}\\\\\n",
    "    a_4 = &\\,\\,\\frac{1}{4}-1=\\frac{-3}{4}\\\\ \n",
    "    \\vdots\n",
    "    \\end{aligned}\n",
    "\\end{equation*}\n",
    "\n",
    "This sequence only has negative numbers and it is only able to converge to -1.\n"
   ]
  },
  {
   "cell_type": "markdown",
   "id": "ba6e4853",
   "metadata": {},
   "source": [
    " "
   ]
  },
  {
   "cell_type": "markdown",
   "id": "d676f845",
   "metadata": {},
   "source": [
    "**Question 2**\n",
    "\n",
    "Exercise 3.4 Prove the following using the definition of sequence convergence. \n",
    "1. Let $a_n = \\frac{2n - 2}{5n+1}$. Show that $\\lim_{x\\to\\infty} a_n = \\frac{2}{5}$.\n",
    "2. Let $a_n = 7 - \\frac{1}{\\sqrt{n + \\sqrt{n} + 13}}$. Show that $a_n \\rightarrow 7$ as $n \\rightarrow \\infty$."
   ]
  },
  {
   "cell_type": "markdown",
   "id": "a2d84f14",
   "metadata": {},
   "source": [
    "**Solution**\n",
    "\n",
    "Using the previously state definition of convergent sequences (**Definition 3.7**), we can apply the same outline to $a_n = \\frac{2n - 2}{5n+1}$.\n",
    "\n",
    "First, solve for the lower bound of n, where we want our proof to end up.\n",
    "\n",
    "\\begin{equation*}\n",
    "    \\begin{aligned}\n",
    "    |a_n - a| < &\\,\\,\\epsilon\\\\\n",
    "    |\\frac{2n-2}{5n+1} - \\frac{2}{5}| < &\\,\\,\\epsilon\\\\\n",
    "    |\\frac{2n-2}{5n+1} - \\frac{2(n+\\frac{1}{5})}{5(n+\\frac{1}{5})}| < &\\,\\,\\epsilon\\\\\n",
    "    |\\frac{2n-2}{5n+1} - \\frac{2n + \\frac{2}{5}}{5n+1}| < &\\,\\,\\epsilon\\\\\n",
    "    |\\frac{2n-2-2n-\\frac{2}{5}}{5n+1}| < &\\,\\,\\epsilon\\\\\n",
    "    |\\frac{-\\frac{12}{5}}{5n+1}| < &\\,\\,\\epsilon\\\\\n",
    "    \\frac{\\frac{12}{5}}{5n+1} < &\\,\\,\\epsilon\\\\\n",
    "    \\frac{12}{5(5n+1)} < &\\,\\,\\epsilon\\\\\n",
    "    \\frac{12}{25n+5)} < &\\,\\,\\epsilon\\\\\n",
    "    \\frac{12}{\\epsilon} < &\\,\\,25n + 5\\\\\n",
    "    \\frac{12}{25\\epsilon}-\\frac{1}{5} < &\\,\\,n\\\\\n",
    "    \\end{aligned}\n",
    "\\end{equation*}\n",
    "\n",
    "As long as $N =  \\frac{12}{25\\epsilon}-\\frac{1}{5}$, then for any $n>N, n > \\frac{12}{25\\epsilon}-\\frac{1}{5}$. Now we can begin our proof.\n",
    "\n",
    "*Proposition*: For every error $\\epsilon > 0$, there exists an $N \\in \\mathbb{N}$ so that for every $n>N, |a_n - \\frac{2}{5}| < \\epsilon$.\n",
    "\n",
    "Consider the sequence $a_n = \\frac{2n - 2}{5n+1}$. Let $\\epsilon > 0$ and set $N = \\frac{12}{25\\epsilon}-\\frac{1}{5}$ for any $n>N$. \n",
    "\n",
    "\\begin{equation*}\n",
    "    \\begin{aligned}\n",
    "        |a_n - a| = &\\,\\,|\\frac{2n-2}{5n+1} - \\frac{2}{5}| = |\\frac{2n-2}{5n+1} - \\frac{2(n+\\frac{1}{5})}{5(n+\\frac{1}{5})}|\\\\\n",
    "        = &\\,\\, \\frac{12}{5(5n+1)} < \\frac{12}{5(5N+1)}\\\\\n",
    "        = &\\,\\, \\frac{12}{5(5(\\frac{12}{25\\epsilon}-\\frac{1}{5})+1)} = \\frac{12}{\\frac{12}{\\epsilon} -5 +5} = \\epsilon\\\\\n",
    "    \\end{aligned}\n",
    "\\end{equation*}      \n",
    "\n",
    "That is, for all $e>0$ and for any $n>N$, $|a_n - \\frac{2}{5}| <\\epsilon$\n",
    "\n",
    "Therefore, the sequence $a_n = 7-\\frac{1}{\\sqrt{n}} \\rightarrow \\frac{2}{5}$.\n"
   ]
  },
  {
   "cell_type": "markdown",
   "id": "ef08cdf0",
   "metadata": {},
   "source": [
    " \n"
   ]
  },
  {
   "cell_type": "markdown",
   "id": "40c22f8d",
   "metadata": {},
   "source": [
    "*Let $a_n = 7 - \\frac{1}{\\sqrt{n + \\sqrt{n} + 13}}$. Show that $a_n \\rightarrow 7$ as $n \\rightarrow \\infty$*:\n",
    "\n",
    "In order to verify the claim we must again use the definition of convergence (**Definition 3.7**).\n",
    "\n",
    "Pre-work is crutial for this problem to find the lowerbound of n and what N equals.\n",
    "\n",
    "Start with the sequence relation we want to show,\n",
    "\n",
    "\\begin{equation*}\n",
    "    \\begin{aligned}\n",
    "    |a_n - a| < &\\,\\,\\epsilon\\\\\n",
    "    |7 - \\frac{1}{\\sqrt{n + \\sqrt{n} + 13}} - 7| < &\\,\\,\\epsilon\\\\\n",
    "    |\\frac{1}{\\sqrt{n + \\sqrt{n} + 13}}| < &\\,\\,\\epsilon\\\\\n",
    "    \\frac{1}{\\sqrt{n + \\sqrt{n} + 13}} < &\\,\\,\\epsilon\\\\\n",
    "    n + \\sqrt{n} + 13 > &\\,\\,\\frac{1}{\\epsilon^2}\\\\\n",
    "    \\end{aligned}\n",
    "\\end{equation*}\n",
    "\n",
    "Because n can not be solved in simple terms we will impliment a variable substitution. $a = n + \\sqrt{n}$ and $A = N + \\sqrt{N}$. Next, use this substitution to the sequence relation.\n",
    "\n",
    "\\begin{equation*}\n",
    "    \\begin{aligned}\n",
    "     n + \\sqrt{n} + 13 > &\\,\\,\\frac{1}{\\epsilon^2}\\\\\n",
    "     a > &\\,\\,\\frac{1}{\\epsilon^2} - 13\\\\\n",
    "    \\end{aligned}\n",
    "\\end{equation*}\n",
    "\n",
    "So as long as $A = \\frac{1}{\\epsilon^2} - 13$ then for any $n>N$ and $a>A$ the statement will be true. Now we can begin the proof.\n",
    "\n",
    "\n",
    "*Proposition*: For every error $\\epsilon > 0$, there exists an $N \\in \\mathbb{N}$ and an $A \\in \\mathbb{N}$ so that for every $n>N$ and $a>A$,  $|a_n - 7| < \\epsilon$.\n",
    "\n",
    "Consider the sequence $a_n = ( 7 - \\frac{1}{\\sqrt{n + \\sqrt{n} + 13}})_n$. Let $\\epsilon > 0$ and set $N + \\sqrt{N} = A = \\frac{1}{\\epsilon^2} - 13$. \n",
    "\n",
    "Then for any $a > A$,\n",
    "\n",
    "\\begin{equation*}\n",
    "    \\begin{aligned}\n",
    "        |a_n - a| =&\\,\\, |( 7 - \\frac{1}{\\sqrt{n + \\sqrt{n} + 13}} -7| = |( 7 - {\\frac{1}{\\sqrt{a + 13}}} -7|  = |{\\frac{1}{\\sqrt{a + 13}}}|\\\\\n",
    "        =&\\,\\, {\\frac{1}{\\sqrt{a + 13}}} < {\\frac{1}{\\sqrt{A + 13}}} = {\\frac{1}{\\sqrt{\\frac{1}{\\epsilon^2}-13 + 13}}} = \\epsilon\n",
    "    \\end{aligned}\n",
    "\\end{equation*}\n",
    "\n",
    "That is,  for all $e>0$ and for any $n>N$ and $a>A \\in \\mathbb{R}$, $|a_n - 7| < \\epsilon$.\n",
    "\n",
    "\n",
    "\n",
    "Therefore, the sequence $a_n = 7 - \\frac{1}{\\sqrt{n + \\sqrt{n} + 13}} \\rightarrow 7$."
   ]
  },
  {
   "cell_type": "markdown",
   "id": "86df0883",
   "metadata": {},
   "source": [
    " "
   ]
  },
  {
   "cell_type": "markdown",
   "id": "29582c8b",
   "metadata": {},
   "source": [
    "## Part 3\n",
    "\n",
    "This section is a discussion of the article \"Definitions: Dealing with Categories Mathematically\" by Alock and Simpson. "
   ]
  },
  {
   "cell_type": "markdown",
   "id": "ad11de79",
   "metadata": {},
   "source": [
    "The five problems I selected demonstrate a variety of skills I use in mathematical analysis. They show my ability to read and understand problems, provide examples to satisfy the prompt and understand definitions and their applications. Question 1 and example 3.2 ask to either prove or disprove statements about sequences. I had to think broadly about the statements and not just rely on a generalized statement. It shows my understanding and ability to read a statement and provide an example with satisfies the prompt. The next series of questions came from example 3.4 and asks to use the definition of a convergent sequence to show that a series converges to a value. This requires me to apply a definition to write a proof about a converging sequence. I have to fully understand the definition to further my experience and deepen knowledge. I struggle with analysis, so 3.7 is a good way for me to show my improvement with proof writing throughout the semester. This helps me to understand definitions and proper notation as I become more confident in my ability to prove mathematical statements. The last two problems continue on from the first three. I did this intentionally because I did not want to introduce new skills, as I work to strengthen the ones I have now.  "
   ]
  },
  {
   "cell_type": "markdown",
   "id": "3fd20845",
   "metadata": {},
   "source": [
    "The transition to critically think about mathematical statements and arguments is difficult, and there are different levels of student's progression. From the article I learned that as a student, generalizations are the default way to analyze problems, but these generalizations do not hold in a mathematical context even though they are very common in our society. We need to develop other skills and ways of thinking about analysis. The progression of student thought then follows by drawing out property abstractions from the generalization. As a whole, we are trying to move away from this approach. The fact is, making assertions from a generalization does not hold. The article highlights that students struggle with trying to shift thinking from individual problems to large scale concepts. As we develop our skills, the ability to read, understand, and apply definitions is essential. By using definitions, the student moves away from false generalizations to concrete and formal pathways of logic.  "
   ]
  },
  {
   "cell_type": "markdown",
   "id": "1836837c",
   "metadata": {},
   "source": [
    "Furthermore, the article focuses on the ability of students to understand mathematical analysis. Our class is a place for us to practice these skills, and we see that through analysis and applications of definitions. The development of understanding must come from the definition itself and not from examples. “If the lecturer also provides examples, intending them to be illustrative, the student may even construct their prototype on the basis of experience with them, ignoring the definition altogether.” (pg.33) When working with convergence sequence we started with identifying what is a convergent sequence which helps with understanding the definition. We avoided working with examples, so we had experience using the definition before trying to solve problems."
   ]
  },
  {
   "cell_type": "markdown",
   "id": "24a14817",
   "metadata": {},
   "source": [
    "This article taught me how to be a better student in class, especially with math analysis. I know what I can do to improve my skills and work as the semester goes on.  "
   ]
  }
 ],
 "metadata": {
  "kernelspec": {
   "display_name": "Python 3 (ipykernel)",
   "language": "python",
   "name": "python3"
  },
  "language_info": {
   "codemirror_mode": {
    "name": "ipython",
    "version": 3
   },
   "file_extension": ".py",
   "mimetype": "text/x-python",
   "name": "python",
   "nbconvert_exporter": "python",
   "pygments_lexer": "ipython3",
   "version": "3.11.4"
  }
 },
 "nbformat": 4,
 "nbformat_minor": 5
}
