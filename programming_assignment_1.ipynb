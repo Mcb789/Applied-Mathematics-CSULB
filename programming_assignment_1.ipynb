{
 "cells": [
  {
   "cell_type": "markdown",
   "id": "376a337c",
   "metadata": {},
   "source": [
    "### <p style=\"text-align: right;\"> &#9989; Macy Boren\n",
    "   "
   ]
  },
  {
   "cell_type": "markdown",
   "id": "d505a235",
   "metadata": {},
   "source": [
    "# __MATH323 &ndash; Introduction to Numerical Analysis &ndash; Fall 2023__\n",
    "\n",
    "# Programming Assignment 1 \n",
    "\n",
    "\n",
    "In this programming assignment, you will use your programming skills to compute approximations of different quantities and investigate their errors. This gives you the opportunity to assess your understanding at this point in the course. If you need help, please come and see me. I am here to support you! \n",
    "\n",
    "## Goals\n",
    "\n",
    "### By the end of this assignment you will have practiced several topics, including:\n",
    "\n",
    "1. the error, absolute error and relative error\n",
    "2. the impact of computer arithmetic \n",
    "3. the Taylor polynomial and its error\n",
    "4. the basics of programming in Python"
   ]
  },
  {
   "cell_type": "markdown",
   "id": "20a1ad2c",
   "metadata": {},
   "source": [
    "## Instructions\n",
    "\n",
    "You have three weeks to complete this programming assignment. You are required to use LaTeX and Python to answer the questions. The procedure to submit this assignment is available in the Jupyter notebook `slides_review_basics_programming` in Canvas and is mandatory. Note that no late assignment will be accepted. \n",
    "\n",
    "**This assignment is due at 3:00 p.m. Wednesday, Sep 20 on Canvas.**"
   ]
  },
  {
   "cell_type": "markdown",
   "id": "2eea50a7",
   "metadata": {},
   "source": [
    "## Grading\n",
    "\n",
    "* Part 0: Preliminary (1 point)\n",
    "* Part 1: Stirling's approximation (8 points)\n",
    "    * Question 1 (4 points)\n",
    "    * Question 2 (3 points)\n",
    "    * Question 3 (1 point)\n",
    "* Part 2: Golden ratio (6 points)\n",
    "    * Question 1 (6 points)\n",
    "* Part 3: Estimations of $\\pi$ (7 points)\n",
    "    * Question 1 (3 points)\n",
    "    * Question 2 (4 points)\n",
    "* Part 4: Taylor polynomials (11 points)\n",
    "    * Question 1 (4 points)\n",
    "    * Question 2 (3 points)\n",
    "    * Question 3 (4 points)\n",
    "* Part 5: Approximations of the exponential function (9 points)\n",
    "    * Question 1 (1 point)\n",
    "    * Question 2 (2 points)\n",
    "    * Question 3 (6 points)\n",
    "* Part 6: Computation of a squence (13 points)\n",
    "    * Question 1 (2 points)\n",
    "    * Question 2 (2 points)\n",
    "    * Question 3 (2 points)\n",
    "    * Question 4 (2 points)\n",
    "    * Question 5 (5 points)\n",
    "\n",
    "Total points: **55**\n",
    "___"
   ]
  },
  {
   "cell_type": "markdown",
   "id": "a18ee822",
   "metadata": {},
   "source": [
    "## Part 0:  Preliminary (1 point)"
   ]
  },
  {
   "cell_type": "markdown",
   "id": "37289616",
   "metadata": {},
   "source": [
    "**Question 1**: Import in the cell below all the modules that you will need in this assignment."
   ]
  },
  {
   "cell_type": "code",
   "execution_count": 1,
   "id": "d427c70e",
   "metadata": {},
   "outputs": [],
   "source": [
    "import numpy as np\n",
    "import math\n",
    "import matplotlib.pyplot as plt # library to display the results\n",
    "%matplotlib inline"
   ]
  },
  {
   "cell_type": "markdown",
   "id": "c81da65d",
   "metadata": {},
   "source": [
    "## Part 1: Stirling's approximation (8 points)\n",
    "\n",
    "The Stirling's approximation \n",
    "\n",
    "\\begin{equation*}\n",
    "    s_n = \\frac{n^n\\sqrt{2\\pi n}}{e^n}\n",
    "\\end{equation*}\n",
    "\n",
    "estimates the factorial of $n$, that is $n! = 1\\times2\\times3\\times\\dots\\times n$."
   ]
  },
  {
   "cell_type": "markdown",
   "id": "6758d6d8",
   "metadata": {},
   "source": [
    "**Question 1**\n",
    "\n",
    "Compute the factorial of $n$ and its Stirling's approximation for $n=1,2,\\dots,12$. "
   ]
  },
  {
   "cell_type": "code",
   "execution_count": 2,
   "id": "c8b8b8f5",
   "metadata": {},
   "outputs": [],
   "source": [
    "n = 1\n",
    "fact_vec = np.zeros(12)\n",
    "stirling_vec = np.zeros(12)\n",
    "\n",
    "for a in range (1,13):\n",
    "    n = n * a\n",
    "    stir = ((a**a)* np.sqrt(2 * np.pi *a)) / (np.exp(a))\n",
    "    fact_vec[a-1] = n\n",
    "    stirling_vec[a-1] = stir"
   ]
  },
  {
   "cell_type": "markdown",
   "id": "2b12b25e",
   "metadata": {},
   "source": [
    "**Question 2**\n",
    "\n",
    "Compute the absolute error and relative error for each $n$ and display it as a table of three columns containing the values of $n$, the absolute errors and the relative errors. "
   ]
  },
  {
   "cell_type": "code",
   "execution_count": 3,
   "id": "f84381b2",
   "metadata": {},
   "outputs": [
    {
     "name": "stdout",
     "output_type": "stream",
     "text": [
      "n \t absolute error \t relative error \n",
      "\n",
      "1 \t 7.786e-02 \t\t 7.786e-02\n",
      "2 \t 8.100e-02 \t\t 4.050e-02\n",
      "3 \t 1.638e-01 \t\t 2.730e-02\n",
      "4 \t 4.938e-01 \t\t 2.058e-02\n",
      "5 \t 1.981e+00 \t\t 1.651e-02\n",
      "6 \t 9.922e+00 \t\t 1.378e-02\n",
      "7 \t 5.960e+01 \t\t 1.183e-02\n",
      "8 \t 4.176e+02 \t\t 1.036e-02\n",
      "9 \t 3.343e+03 \t\t 9.213e-03\n",
      "10 \t 3.010e+04 \t\t 8.296e-03\n",
      "11 \t 3.012e+05 \t\t 7.545e-03\n",
      "12 \t 3.314e+06 \t\t 6.919e-03\n"
     ]
    }
   ],
   "source": [
    "print(\"%s \\t %s \\t %s \\n\" % (\"n\", \"absolute error\", \"relative error\"))\n",
    "\n",
    "for a in range (1,13):\n",
    "    abserror = np.abs(fact_vec[a-1] - stirling_vec[a-1])\n",
    "    relerror = abserror / np.abs(fact_vec[a-1])\n",
    "    print(\"%d \\t %1.3e \\t\\t %1.3e\" % (a, abserror, relerror))"
   ]
  },
  {
   "cell_type": "markdown",
   "id": "2386c06d",
   "metadata": {},
   "source": [
    "**Question 3**\n",
    "\n",
    "Is the Stirling's approximation more accurate as $n$ increases? Explain your answer."
   ]
  },
  {
   "cell_type": "markdown",
   "id": "8be1f39f",
   "metadata": {},
   "source": [
    "<font size=6 color=\"#009600\">&#9998;</font>  The table provided displays the $n$ value which us used to caluctated the exact value and Stirling's approximation, as well as, the absolute errors and relative errors. $n$ ranges from 1 to 12 and is used to to calculate Stirling's approximation and the exact factorization value. The absolute error is found by taking the difference between the exact value and Stirlings approximated value while, the relative error places the error in reference of the problem. This is achieved by dividing the absolute error by the exact value.\n",
    "\n",
    "This table of values will help us to determine if Stirling's approximation becomes more accurate as $n$ increases. By analyzing the more accurate relative error, it is shown that as $n$ increases the relative error decreases. Becuase of the decreasing error, that means Stirling's approximation becomes more accurate with increasing $n$ values. A smaller error value demonstrates that the approximation is getting closer to the real number. "
   ]
  },
  {
   "cell_type": "markdown",
   "id": "21a08cdc",
   "metadata": {},
   "source": [
    "## Part 2: Golden ratio (6 points)"
   ]
  },
  {
   "cell_type": "markdown",
   "id": "1c70cfb6",
   "metadata": {},
   "source": [
    "The golden ratio $\\alpha = \\frac{1+\\sqrt{5}}{2}$ can be approximated by the ratio $\\frac{F_{n}}{F_{n-1}}$. Here $F_n$ is the $n$th number in the Fibonacci sequence\n",
    "\n",
    "\\begin{equation*}\n",
    "    \\left\\{\n",
    "    \\begin{aligned}\n",
    "        F_0 =&\\,\\, 0, \\quad F_1 =1, \\\\\n",
    "        F_n =&\\,\\, F_{n-1} + F_{n-2}, \\qquad n = 2, 3, 4, \\dots\n",
    "    \\end{aligned}\n",
    "    \\right.\n",
    "\\end{equation*}\n",
    "\n",
    "Knowing that \n",
    "\n",
    "\\begin{equation*}\n",
    "    \\lim_{n\\to\\infty} \\frac{F_{n}}{F_{n-1}} = \\alpha,\n",
    "\\end{equation*}\n",
    "\n",
    "we should expect the ratio to be more accurate when $n$ increases. "
   ]
  },
  {
   "cell_type": "markdown",
   "id": "5397412e",
   "metadata": {},
   "source": [
    "**Question 1**\n",
    "\n",
    "Determine the **smallest** value of $n$ for which the approximation of the golden ratio has at least 5 significant digits. Print the approximation, its relative error and the value of $n$."
   ]
  },
  {
   "cell_type": "code",
   "execution_count": 4,
   "id": "352813cc",
   "metadata": {
    "scrolled": true
   },
   "outputs": [
    {
     "name": "stdout",
     "output_type": "stream",
     "text": [
      "n = 12\n",
      "Approximation = 1.6179775280898876\n",
      "Relative Error = 3.48946069117676e-05\n"
     ]
    }
   ],
   "source": [
    "F_n1 = 1 \n",
    "F_n = 0\n",
    "n = 1\n",
    "approx_alpha = 0\n",
    "exact_alpha = (1 + np.sqrt(5))/(2)\n",
    "\n",
    "while abs(exact_alpha - approx_alpha)/abs(exact_alpha) >= (5 * (10 ** -5)):\n",
    "    F_n2 = F_n1 + F_n\n",
    "    F_n = F_n1\n",
    "    F_n1 = F_n2\n",
    "    approx_alpha = F_n1 / F_n \n",
    "    n +=1 \n",
    "    rel_error =  abs(exact_alpha - approx_alpha)/abs(exact_alpha)\n",
    "    \n",
    "print('n =', n)\n",
    "print('Approximation =', approx_alpha)\n",
    "print('Relative Error =', rel_error)\n"
   ]
  },
  {
   "cell_type": "markdown",
   "id": "45ff8f22",
   "metadata": {},
   "source": [
    "---\n",
    "## Part 3: Estimations of $\\pi$ (7 points)\n",
    "\n",
    "In this part, you will compute estimations of $\\pi$. Knowing that the perimeter of a circle of radius 0.5 is equal to $\\pi$, you could estimate its parameter and hence $\\pi$ by the constructing regular polygons within it. This leads to the following recursion relation\n",
    "\n",
    "\\begin{equation*}\n",
    "p_{k+1} = 2^k\\,\\sqrt{ 2\\Big(\\,1-\\sqrt{1-\\Big(\\tfrac{p_k}{2^k}\\Big)^2}\\,\\Big)} \n",
    "\\end{equation*}\n",
    "\n",
    "for $k\\geq2$ and where $p_k$ is the perimeter of a $2^k$-sides polygon. "
   ]
  },
  {
   "cell_type": "markdown",
   "id": "0f5268ea",
   "metadata": {},
   "source": [
    "**Question 1**\n",
    "\n",
    "Knowing that $p_2=2\\sqrt{2}$, compute the approximation of $\\pi$ and its absolute error for $k = 2, 3, \\dots, 36$. Display the results as a table of three columns containing the values of $k$, the approximations and the absolute errors."
   ]
  },
  {
   "cell_type": "code",
   "execution_count": 5,
   "id": "981dd419",
   "metadata": {},
   "outputs": [
    {
     "name": "stdout",
     "output_type": "stream",
     "text": [
      "k \t Approximations \t Absolute Errors \t\n",
      "2 \t 3.06147 \t\t 8.013e-02\n",
      "3 \t 3.12145 \t\t 2.015e-02\n",
      "4 \t 3.13655 \t\t 5.044e-03\n",
      "5 \t 3.14033 \t\t 1.261e-03\n",
      "6 \t 3.14128 \t\t 3.154e-04\n",
      "7 \t 3.14151 \t\t 7.885e-05\n",
      "8 \t 3.14157 \t\t 1.971e-05\n",
      "9 \t 3.14159 \t\t 4.928e-06\n",
      "10 \t 3.14159 \t\t 1.232e-06\n",
      "11 \t 3.14159 \t\t 3.080e-07\n",
      "12 \t 3.14159 \t\t 7.704e-08\n",
      "13 \t 3.14159 \t\t 2.013e-08\n",
      "14 \t 3.14159 \t\t 1.218e-09\n",
      "15 \t 3.14159 \t\t 8.269e-09\n",
      "16 \t 3.14159 \t\t 4.621e-08\n",
      "17 \t 3.14159 \t\t 2.573e-07\n",
      "18 \t 3.14159 \t\t 1.472e-06\n",
      "19 \t 3.14160 \t\t 3.900e-06\n",
      "20 \t 3.14160 \t\t 3.900e-06\n",
      "21 \t 3.14167 \t\t 8.161e-05\n",
      "22 \t 3.14183 \t\t 2.370e-04\n",
      "23 \t 3.14245 \t\t 8.586e-04\n",
      "24 \t 3.14245 \t\t 8.586e-04\n",
      "25 \t 3.16228 \t\t 2.069e-02\n",
      "26 \t 3.16228 \t\t 2.069e-02\n",
      "27 \t 3.46410 \t\t 3.225e-01\n",
      "28 \t 4.00000 \t\t 8.584e-01\n",
      "29 \t 0.00000 \t\t 3.142e+00\n",
      "30 \t 0.00000 \t\t 3.142e+00\n",
      "31 \t 0.00000 \t\t 3.142e+00\n",
      "32 \t 0.00000 \t\t 3.142e+00\n",
      "33 \t 0.00000 \t\t 3.142e+00\n",
      "34 \t 0.00000 \t\t 3.142e+00\n",
      "35 \t 0.00000 \t\t 3.142e+00\n",
      "36 \t 0.00000 \t\t 3.142e+00\n"
     ]
    }
   ],
   "source": [
    "k = 1\n",
    "p_k = 2 * np.sqrt(2)\n",
    "print(\"%s \\t %s \\t %s \\t\" % ('k','Approximations','Absolute Errors'))\n",
    "\n",
    "for k in range(2,37):\n",
    "    p_k_1 = (2 ** k) * np.sqrt(2 * (1 - np.sqrt(1- ((p_k/(2 ** k))** 2))))\n",
    "    p_k = p_k_1\n",
    "    absolute_error = np.abs(np.pi - p_k)\n",
    "    print(\"%d \\t %2.5f \\t\\t %1.3e\"%(k,p_k,absolute_error))\n",
    "    "
   ]
  },
  {
   "cell_type": "markdown",
   "id": "1f4a3af5",
   "metadata": {},
   "source": [
    "**Question 2**\n",
    "\n",
    "For which $k$ the approximation is the most accurate? Describe the behavior of the absolute error and explain the results. Provide numerical evidences of your claim."
   ]
  },
  {
   "cell_type": "markdown",
   "id": "aeb0847c",
   "metadata": {},
   "source": [
    "<font size=6 color=\"#009600\">&#9998;</font>  Using this recursion relation, the information should be presetned in three columns of k, the approximation, and the exact value. Becuase k in increasing the approximation should be increasing as well with the absolute error increasing as it aprroaches $\\pi$ and decreasing as the approximation gets further from $\\pi$.\n",
    "\n",
    "The K values corresponds with the approximations from the function $p_k$, which is the perimeter of a $2^k$-sides polygon, and the absolute error, which is calculated from the exact value $\\pi$. The approximation increases the most between k values 1 to 3 then seems to continuously increase at a slower rate around 3.14. At k = 28 the approximation of $\\pi$ hits 4 then after that the approximation is 0 due to the nature of the approximation.\n",
    "\n",
    "The absolute errors follow the pattern of the approximation which increase and decrease consistently. The trend is that as the approximation starts and ends further away from $\\pi$, the absolute error will be greater at the beginning and end, while more accurate in the center when the approximation is closest. \n",
    "\n",
    "The approximation is closest to $\\pi$ at k = 14 due to it corresponding with the smallest error of $1.218^{-09}$. The absolute error is also decreasing until this point then increases after. \n",
    "\n",
    "To analyse the series and show that k increases so does the approximation, let's take a look at the first square root. $\\sqrt{1-\\Big(\\tfrac{p_k}{2^k}\\Big)^2}$"
   ]
  },
  {
   "cell_type": "code",
   "execution_count": 6,
   "id": "d4b43a72",
   "metadata": {},
   "outputs": [
    {
     "name": "stdout",
     "output_type": "stream",
     "text": [
      "Value under the square root\n",
      "0.6435942529055825\n",
      "0.9207383260311116\n",
      "0.9805970430337126\n",
      "0.995173077079758\n",
      "0.9987947298671258\n",
      "0.9996987733274502\n",
      "0.9999246990040245\n",
      "0.9999811751054127\n",
      "0.999995293798502\n",
      "0.9999988234510098\n",
      "0.9999997058628389\n",
      "0.9999999264657152\n",
      "0.999999981616429\n",
      "0.9999999954041073\n",
      "0.9999999988510269\n",
      "0.9999999997127567\n",
      "0.9999999999281891\n",
      "0.9999999999820472\n",
      "0.9999999999955118\n",
      "0.9999999999988779\n",
      "0.9999999999997194\n",
      "0.9999999999999298\n",
      "0.9999999999999825\n",
      "0.9999999999999956\n",
      "0.9999999999999989\n",
      "0.9999999999999997\n",
      "0.9999999999999999\n",
      "1.0\n",
      "1.0\n",
      "1.0\n",
      "1.0\n",
      "1.0\n",
      "1.0\n",
      "1.0\n",
      "1.0\n"
     ]
    }
   ],
   "source": [
    "k = 1\n",
    "p_k = 2 * np.sqrt(2)\n",
    "print(\"%s\" % ('Value under the square root'))\n",
    "\n",
    "for k in range(2,37):\n",
    "    p_k_1 = (2 ** k) * np.sqrt(2 * (1 - np.sqrt(1- ((p_k/(2 ** k))** 2))))\n",
    "    p_k = p_k_1 \n",
    "    under =  np.sqrt(1- ((p_k/(2 ** k))** 2))\n",
    "    print(under)"
   ]
  },
  {
   "cell_type": "markdown",
   "id": "e873bf4a",
   "metadata": {},
   "source": [
    "This shows that becuase the series is baised on past values, it will always be increasing. We also see that there is a point at which, the value under the square root in one."
   ]
  },
  {
   "cell_type": "markdown",
   "id": "7d2daab3",
   "metadata": {},
   "source": [
    "## Part 4: Taylor polynomials (11 points)"
   ]
  },
  {
   "cell_type": "markdown",
   "id": "52d5a216",
   "metadata": {},
   "source": [
    "**Question 1**\n",
    "\n",
    "Compute the fourth-degree Taylor polynomial of $g(x)=\\ln(1+x)$ around $x_0 = 0$. Show the details of your computation. Identify clearly the Taylor polynomial and its error term. What is the order of the Taylor polynomial approximating $g(x)$ with $x>0$?"
   ]
  },
  {
   "cell_type": "markdown",
   "id": "810af8ef",
   "metadata": {},
   "source": [
    "<font size=6 color=\"#009600\">&#9998;</font>  The formula for the Taylor Series polynomial is given by...\n",
    "\n",
    "\\begin{equation*}\n",
    "    P_n(x) = \\displaystyle\\sum_{k=0}^n \\frac{f^{(k)}(x_0)}{k!}(x-x_0)^k\n",
    "\\end{equation*}\n",
    "\n",
    "And our knowns are $x_0 = 0$ , $g(x) = \\ln(1+x)$\n",
    "\n",
    "\\begin{equation*}\n",
    "    P_4(x) = g(x_0) + g^{(1)}(x_0)h + \\frac{g^{(2)}(x_0)}{2} h^2 + \\frac{g^{(3)}(x_0)}{6} h^3 + \\frac{g^{(4)}(x_0)}{24} h^4         \n",
    "\\end{equation*}\n",
    "\n",
    "We need to find up to the fourth derivative of g(x).\n",
    "\n",
    "\\begin{equation*}\n",
    "    \\begin{aligned}\n",
    "    g(x_0) = &\\,\\, ln(1+x_0)\\\\\n",
    "    g^{(1)}(x_0) = &\\,\\, (1+x_0)^{(-1)}\\\\\n",
    "    g^{(2)}(x_0) = &\\,\\, -(1+x_0)^{(-2)}\\\\\n",
    "    g^{(3)}(x_0) = &\\,\\, 2(1+x_0)^{(-3)}\\\\\n",
    "    g^{(4)}(x_0) = &\\,\\, -6(1+x_0)^{(-4)}\\\\\n",
    "    g^5{(5)}(x_0) = &\\,\\, 24(1+x_0)^{(-5)}\\\\\n",
    "    \\end{aligned}\n",
    "\\end{equation*}\n",
    "\n",
    "Evaluating the derivatives at x_0 = 0 and x = x_0 + h we obtain\n",
    "\n",
    "\\begin{equation*}\n",
    "    \\begin{aligned}\n",
    "    P_4(x) = &\\,\\, ln(1+x_0) + \\frac{h}{(1+x_0)} - \\frac{h^2}{2(1+x_0)^2} + \\frac{2h^3}{6(1+x_0)^3} - \\frac{6h^4}{24(1+x_0)^4}\\\\\n",
    "    = &\\,\\, ln(1+x_0) + \\frac{h}{(1+x_0)} - \\frac{h^2}{2(1+x_0)^2} + \\frac{h^3}{3(1+x_0)^3} - \\frac{h^4}{4(1+x_0)^4}\\\\\n",
    "    = &\\,\\, ln(1) + {h} - \\frac{h^2}{2} + \\frac{h^3}{3} - \\frac{h^4}{4}\\\\\n",
    "    = &\\,\\, {h} - \\frac{h^2}{2} + \\frac{h^3}{3} - \\frac{h^4}{4}\\\\\n",
    "    \\end{aligned}\n",
    "\\end{equation*}\n",
    "\n",
    "Where the truncation error term included is\n",
    "\n",
    "\n",
    "\\begin{equation*}\n",
    "    R_n(h) = \\frac{f^{(n+1)}(\\xi)}{(n+1)!}h^{n+1}\n",
    "\\end{equation*}\n",
    "\n",
    "\\begin{equation*}\n",
    "    \\begin{aligned}\n",
    "    R_4(h) = &\\,\\,\\frac{f^{(4+1)}(\\xi)}{(4+1)!}h^{4+1}\\\\\n",
    "    = &\\,\\,\\frac{f^{(5)}(\\xi)}{(5)!}h^{5} \\\\\n",
    "    = &\\,\\,\\frac{24}{120(1+\\xi)^5}h^{5} \\\\\n",
    "    = &\\,\\,\\frac{h^5}{5(1+\\xi)^5} \\\\   \n",
    "    \\end{aligned}\n",
    "\\end{equation*}"
   ]
  },
  {
   "cell_type": "markdown",
   "id": "47ce6aa6",
   "metadata": {},
   "source": [
    "In this case $\\xi$ lies between the interval $x_0=0$ and h and is maximaized at $\\xi$ = 0, so we need to upper bound the absolute error.\n",
    "\n",
    "\\begin{equation*}\n",
    "    |R_4(h)| \\leq \\max_{\\xi} |\\frac{1}{(1+\\xi)}| \\frac{h^5}{5} = \\frac{h^5}{5}\n",
    "\\end{equation*}\n",
    "\n",
    "Finally it is reveiled that the Taylor Polynomial $P_n$ and its error term $R_n$ is \n",
    "\n",
    "\\begin{equation*}\n",
    "    g(x) = {h} - \\frac{h^2}{2} + \\frac{h^3}{3} - \\frac{h^4}{4} + \\frac{h^5}{5} \n",
    "\\end{equation*}\n",
    "\n",
    "Showing that the Taylor polynomial $P_4(x)$ is a fifth-order approximation of $g(x)$."
   ]
  },
  {
   "cell_type": "markdown",
   "id": "09fce6ca",
   "metadata": {},
   "source": [
    "**Question 2**\n",
    "\n",
    "Using the Taylor expansion of $g(x)$, compute the two first terms of the Taylor expansion of \n",
    "\n",
    "\\begin{equation*}\n",
    "    f(x) = \\ln\\big(\\tfrac{1+x}{1-x}\\big)=\\ln(1+x)-\\ln(1-x)\n",
    "\\end{equation*}\n",
    "\n",
    "around $x_0=0$. Determine the degree of the resulting Taylor polynomial and its first error term. "
   ]
  },
  {
   "cell_type": "markdown",
   "id": "9dba0877",
   "metadata": {},
   "source": [
    "<font size=6 color=\"#009600\">&#9998;</font>  \n",
    "\n",
    "The Taylor series polynomial $P_n$ for $f(x) = ln(1-x)$\n",
    "\n",
    "\\begin{equation*}\n",
    "    \\begin{aligned}\n",
    "    P_n(x) = &\\,\\,f(x_0) + f^{(1)}(x_0)h + \\frac{f^{(2)}(x_0)}{2} h^2 + \\frac{f^{(3)}(x_0)}{6} h^3 + \\frac{f^{(4)}(x_0)}{24} h^4 + \\cdots \\\\\n",
    "    = &\\,\\ ln(1) - x - \\frac{h^2}{2} - \\frac{h^3}{3} - \\frac{h^4}{4} - \\cdots \\\\\n",
    "    = &\\,\\ - h - \\frac{h^2}{2} - \\frac{h^3}{3} - \\frac{h^4}{4} +\\cdots \n",
    "    \\end{aligned}\n",
    "\\end{equation*}\n"
   ]
  },
  {
   "cell_type": "markdown",
   "id": "f2f993cd",
   "metadata": {},
   "source": [
    "The Taylor series polynomial $P_n$ for $f(x) = ln(1+x)$ \n",
    "\n",
    "\\begin{equation*}\n",
    "    P_n(x) = {h} - \\frac{h^2}{2} + \\frac{h^3}{3} - \\frac{h^4}{4} + \\cdots \n",
    "\\end{equation*}\n",
    "\n",
    "Then that means the Taylor series polynomial $P_2$ for $f(x) = ln(1+x) - ln(1-x)$\n",
    "\n",
    "\\begin{equation*}\n",
    "    \\begin{aligned}\n",
    "    P_2(x) = &\\,\\,{h} - \\frac{h^2}{2}  + \\frac{h^3}{3} -(- h - \\frac{h^2}{2} - \\frac{h^3}{3})\\\\\n",
    "    = &\\,\\, {h} - \\frac{h^2}{2} +  \\frac{h^3}{3} + \\frac{h^2}{2}  + \\frac{h^3}{3}\\\\\n",
    "    = &\\,\\, 2h + \\frac{2h^3}{3}\n",
    "    \\end{aligned}\n",
    "\\end{equation*}"
   ]
  },
  {
   "cell_type": "markdown",
   "id": "7171a08d",
   "metadata": {},
   "source": [
    "The truncation error is found to be\n",
    "\n",
    "\\begin{equation*}\n",
    "    R_2(h) = \\frac{2h^5}{5} \n",
    "\\end{equation*}\n",
    "\n",
    "\n",
    "The degree of $P_n$ is 2 with a fifth-order approximation."
   ]
  },
  {
   "cell_type": "markdown",
   "id": "9faa9c18",
   "metadata": {},
   "source": [
    "**Question 3**\n",
    "\n",
    "Compute and print approximations of $\\ln(2)$ using $g(x)$ and $f(x)$, and their absolute errors. Why the approximation computed with $f(x)$ is more accurate?"
   ]
  },
  {
   "cell_type": "code",
   "execution_count": 7,
   "id": "de369f83",
   "metadata": {
    "scrolled": true
   },
   "outputs": [
    {
     "name": "stdout",
     "output_type": "stream",
     "text": [
      "g(x) approximation of ln(2): \t 5.833e-01\n",
      "\t\tabsolute error:\t 1.098e-01\n",
      "\n",
      "f(x) approximation of ln(2): \t 7.407e-01\n",
      "\t\tabsolute error:\t 4.759e-02\n"
     ]
    }
   ],
   "source": [
    "# Put your code here \n",
    "# to get ln(2)\n",
    "# If g(x) is an approximation for ln(1+x) so x = 1\n",
    "# If f(x) is an apporximation for ln(1+x) - ln(1-x) then x = 1/3\n",
    "\n",
    "x = 1\n",
    "g_x_approx = x - ((x**2)/2) + ((x**3)/3) - ((x**4)/4)\n",
    "abs_error_g_x = np.abs(np.log(2)-g_x_approx)\n",
    "\n",
    "z = 1/3\n",
    "f_x_approx = (2*z) + ((2*(z**2))/3) #+ ((2*(z**5))/(5))\n",
    "abs_error_f_x = np.abs(np.log(2)-f_x_approx)\n",
    "\n",
    "print(\"%s \\t %1.3e\" % (\"g(x) approximation of ln(2):\",g_x_approx))\n",
    "print(\"\\t\\t%s\\t %1.3e\\n\"%(\"absolute error:\",abs_error_g_x))\n",
    "print(\"%s \\t %1.3e\" % (\"f(x) approximation of ln(2):\",f_x_approx))\n",
    "print(\"\\t\\t%s\\t %1.3e\"%(\"absolute error:\",abs_error_f_x))"
   ]
  },
  {
   "cell_type": "markdown",
   "id": "7f693c6e",
   "metadata": {},
   "source": [
    "<font size=6 color=\"#009600\">&#9998;</font> The approximation of $ln(2)$ using the functions $g(x)$ and $f(x)$ and 0.5833 and 0.7408 respectively. With $f(x)$ having a smaller absolute error of 0.04759 as the absolute error of $f(x)$ is 0.1098.\n",
    "\n",
    "The function $f(x)$ is a more accurate approximation of $ln(2)$ becuase of its lower absolute error and taylor series polynomial. The taylor series of $f(x) = \\ln\\big(\\tfrac{1+x}{1-x}\\big)=\\ln(1+x)-\\ln(1-x)$ has more terms that cancel which provides more terms with fewer calculations. "
   ]
  },
  {
   "cell_type": "markdown",
   "id": "c59d2343",
   "metadata": {},
   "source": [
    "## Part 5: Approximations of the exponential function (9 points)"
   ]
  },
  {
   "cell_type": "markdown",
   "id": "5533041a",
   "metadata": {},
   "source": [
    "The exponential function can be approximated by the rational function \n",
    "\n",
    "\\begin{equation}\n",
    "    r(x) = \\frac{x^2+6x+12}{x^2-6x+12}\n",
    "\\end{equation}\n",
    "\n",
    "around $x=0$. Here we want to approximate the order of the rational approximation $r(x)$."
   ]
  },
  {
   "cell_type": "markdown",
   "id": "89a569e8",
   "metadata": {},
   "source": [
    "**Question 1**\n",
    "\n",
    "Create a function called `rational_app` that computes the rational approximation $r(x)$. The input is a vector containing the values of $x$ and the output is a vector containing the rational approximations.  "
   ]
  },
  {
   "cell_type": "code",
   "execution_count": 8,
   "id": "69ab1657",
   "metadata": {},
   "outputs": [],
   "source": [
    "# Put your code here\n",
    "\n",
    "def rational_app(vec):\n",
    "    i = 0\n",
    "    r_x = np.zeros(len(vec))\n",
    "    for x in vec:\n",
    "        r_x[i] = (x**2 + 6*x +12)/(x**2 - 6*x + 12)\n",
    "        i += 1\n",
    "    return r_x\n"
   ]
  },
  {
   "cell_type": "markdown",
   "id": "522b0a99",
   "metadata": {},
   "source": [
    "**Question 2** \n",
    "\n",
    "Compute the absolute error of $r(x)$ with $x=2^{-n}$ for $n=0,1,2,\\dots,8.$ Display the results as a table of three columns containing $n$, $r$ and the absolute errors. "
   ]
  },
  {
   "cell_type": "code",
   "execution_count": 9,
   "id": "bdd4cecb",
   "metadata": {
    "scrolled": true
   },
   "outputs": [
    {
     "name": "stdout",
     "output_type": "stream",
     "text": [
      "n\tr\t\tabsolute errors\n",
      "0\t2.714286\t3.996e-03\n",
      "1\t1.648649\t7.262e-05\n",
      "2\t1.284024\t1.748e-06\n",
      "3\t1.133148\t4.807e-08\n",
      "4\t1.064494\t1.410e-09\n",
      "5\t1.031743\t4.271e-11\n",
      "6\t1.015748\t1.314e-12\n",
      "7\t1.007843\t4.086e-14\n",
      "8\t1.003914\t1.110e-15\n"
     ]
    }
   ],
   "source": [
    "print('n\\tr\\t\\tabsolute errors')\n",
    "x_vals = np.zeros(9)\n",
    "abs_err = np.zeros(9)\n",
    "for n in range(0,9):\n",
    "    x_vals[n] = 2 ** (-n)\n",
    "    \n",
    "r_x = rational_app(x_vals)\n",
    "\n",
    "for i in range(0,9):\n",
    "    abs_err[i] = np.abs(np.exp(x_vals[i])-r_x[i])\n",
    "    print('%d\\t%f\\t%1.3e'%(i,r_x[i],abs_err[i]))\n"
   ]
  },
  {
   "cell_type": "markdown",
   "id": "71198d64",
   "metadata": {},
   "source": [
    "**Question 3**\n",
    "\n",
    "Plot the absolute error as a function of $x$ in a logarithmic scale. Estimate the order of the rational approximation $r(x)$."
   ]
  },
  {
   "cell_type": "code",
   "execution_count": 10,
   "id": "a5cba09e",
   "metadata": {
    "scrolled": true
   },
   "outputs": [
    {
     "data": {
      "image/png": "[encoded data removed]",
      "text/plain": [
       "<Figure size 640x480 with 1 Axes>"
      ]
     },
     "metadata": {},
     "output_type": "display_data"
    }
   ],
   "source": [
    "x = 0.5 ** np.arange(0,9,1)\n",
    "\n",
    "plt.loglog(x, abs_err, label=\"$P_n$\", color=\"blue\", marker=\"o\", linestyle=\"-\")\n",
    "plt.loglog(x, x**5, label=\"$h^5$\", color=\"red\", linestyle=\"--\")\n",
    "plt.legend()\n",
    "plt.title(\"convergence plot\")\n",
    "plt.xlabel(\"$h$\")\n",
    "plt.ylabel(\"absolute error\")\n",
    "plt.show()"
   ]
  },
  {
   "cell_type": "markdown",
   "id": "ba4e36f1",
   "metadata": {},
   "source": [
    "<font size=6 color=\"#009600\">&#9998;</font>  The absolute error and h are plotted on the graph and follow an almost parallel linear path at a fifth-order approximation where n = 5."
   ]
  },
  {
   "cell_type": "markdown",
   "id": "094c4040",
   "metadata": {},
   "source": [
    "## Part 6: Computation of a sequence (13 points)\n",
    "\n",
    "We want to compute the sequence \n",
    "\n",
    "\\begin{equation}\n",
    "    I_n = \\int_0^1 \\frac{x^{n-1}}{10+x} dx\n",
    "\\end{equation}\n",
    "\n",
    "for $n=1,2,\\dots$ To do so, we use the recursion relation \n",
    "\n",
    "\\begin{equation}\n",
    "    \\left\\{\n",
    "    \\begin{aligned}\n",
    "        I_1 =&\\,\\, \\ln\\big(\\tfrac{11}{10}\\big),  \\\\\n",
    "        I_{n+1} =&\\,\\, \\frac{1}{n} - 10 I_n, \\qquad n = 1, 2, \\dots\n",
    "    \\end{aligned}\n",
    "    \\right.\n",
    "\\end{equation}\n",
    "\n",
    "We also know that the sequence $I_n$ should be decreasing and all its terms should be positive.\n",
    "\n",
    "We now want to investigate the impact of the computer arithmetic on the computation of the sequence $I_n$. We then perturbe the starting value $I_1$.  "
   ]
  },
  {
   "cell_type": "markdown",
   "id": "5e95f6c0",
   "metadata": {},
   "source": [
    "**Question 1**\n",
    "\n",
    "Create a function `compute_In` that computes the terms for $n=1,2,\\dots,20$. The input is the starting value $I_1$ and the output is a vector containing the terms $I_n$."
   ]
  },
  {
   "cell_type": "code",
   "execution_count": 11,
   "id": "b8f09dbe",
   "metadata": {},
   "outputs": [],
   "source": [
    "# Put your code here\n",
    "\n",
    "def compute_In(I_n):\n",
    "    I_vec = np.zeros(21)\n",
    "    I_vec[0] = I_n\n",
    "    for n in range(1,21):\n",
    "        In_1 = (1/n) - (10*I_n)\n",
    "        I_vec[n] = In_1\n",
    "        I_n = In_1\n",
    "    return(I_vec)"
   ]
  },
  {
   "cell_type": "markdown",
   "id": "4ec00fd4",
   "metadata": {},
   "source": [
    "**Question 2**\n",
    "\n",
    "Compute the sequence with three different starting values \n",
    "\n",
    "\\begin{equation}\n",
    "    I_1^0 = 0.095 \\qquad\\quad I_1^1 = 0.09531017 \\qquad\\quad  I_1^2 = 0.09531017980432\n",
    "\\end{equation}\n",
    "\n",
    "Display the results as a table of four columns containing $n$ and the sequence for $I_n^0$, $I_n^1$ and $I_n^2$. "
   ]
  },
  {
   "cell_type": "code",
   "execution_count": 12,
   "id": "73ebbdc4",
   "metadata": {},
   "outputs": [
    {
     "name": "stdout",
     "output_type": "stream",
     "text": [
      "n\tI_n_0\t\tI_n_1\t\tI_n_2\n",
      "1 \t 9.500000e-02 \t 9.531017e-02 \t 9.531018e-02\n",
      "2 \t 5.000000e-02 \t 4.689830e-02 \t 4.689820e-02\n",
      "3 \t -4.440892e-16 \t 3.101700e-02 \t 3.101798e-02\n",
      "4 \t 3.333333e-01 \t 2.316333e-02 \t 2.315353e-02\n",
      "5 \t -3.083333e+00 \t 1.836667e-02 \t 1.846471e-02\n",
      "6 \t 3.103333e+01 \t 1.633333e-02 \t 1.535290e-02\n",
      "7 \t -3.101667e+02 \t 3.333333e-03 \t 1.313765e-02\n",
      "8 \t 3.101810e+03 \t 1.095238e-01 \t 1.148061e-02\n",
      "9 \t -3.101797e+04 \t -9.702381e-01 \t 1.019390e-02\n",
      "10 \t 3.101798e+05 \t 9.813492e+00 \t 9.172069e-03\n",
      "11 \t -3.101798e+06 \t -9.803492e+01 \t 8.279309e-03\n",
      "12 \t 3.101798e+07 \t 9.804401e+02 \t 8.116002e-03\n",
      "13 \t -3.101798e+08 \t -9.804318e+03 \t 2.173318e-03\n",
      "14 \t 3.101798e+09 \t 9.804326e+04 \t 5.518989e-02\n",
      "15 \t -3.101798e+10 \t -9.804325e+05 \t -4.804704e-01\n",
      "16 \t 3.101798e+11 \t 9.804325e+06 \t 4.871370e+00\n",
      "17 \t -3.101798e+12 \t -9.804325e+07 \t -4.865120e+01\n",
      "18 \t 3.101798e+13 \t 9.804325e+08 \t 4.865709e+02\n",
      "19 \t -3.101798e+14 \t -9.804325e+09 \t -4.865653e+03\n",
      "20 \t 3.101798e+15 \t 9.804325e+10 \t 4.865658e+04\n"
     ]
    }
   ],
   "source": [
    "print('n\\tI_n_0\\t\\tI_n_1\\t\\tI_n_2')\n",
    "\n",
    "I_0 = compute_In(0.095)\n",
    "I_1 = compute_In(0.09531017)\n",
    "I_2 = compute_In(0.09531017980432)\n",
    "\n",
    "for n in range(0,20):\n",
    "    print(\"%d \\t %1.6e \\t %1.6e \\t %1.6e\"%((n+1),I_0[n],I_1[n],I_2[n]))\n"
   ]
  },
  {
   "cell_type": "markdown",
   "id": "9e5aa5c8",
   "metadata": {},
   "source": [
    "**Question 3**\n",
    "\n",
    "Let us neglect the round-off error of the term $\\frac{1}{n}$, find an approximation of the absolute error of the form  $\\Delta I_{n+1} \\approx f(\\Delta I_n)$. Here $\\Delta I_n$ is the absolute error of the term $I_n$. Explain your development. "
   ]
  },
  {
   "cell_type": "markdown",
   "id": "251634d4",
   "metadata": {},
   "source": [
    "<font size=6 color=\"#009600\">&#9998;</font>  *Put your answer and explanation here*\n",
    "\n",
    "We can see that $\\Delta I_{n+1}$ becomes a recursion relation of the current term and the next term. For example, we see that $I_1 = f(I_0)$ and so on. This means we can characterize the propogation of the absolute error. The question then is, what is the function $f(x)$ and how to do find that. We know that $e = x - x^*$ and $f(x) = f(x* + e)$ which is the taylor series and truncation error.\n",
    "\n",
    "x = x* + error\n",
    "x* = x - error (SHOW HOW ERROR BEHAVIES)"
   ]
  },
  {
   "cell_type": "markdown",
   "id": "ab543525",
   "metadata": {},
   "source": [
    "**Question 4**\n",
    "\n",
    "Using the approximation of the absolute error obtained in **Question 3**, estimate the absolute error of each term of the sequence for $I_n^0$, $I_n^1$ and $I_n^2$. \n",
    "\n",
    "Display the results as a table of four columns containing $n$ and the sequence for $\\Delta I_n^0$, $\\Delta I_n^1$ and $\\Delta I_n^2$. "
   ]
  },
  {
   "cell_type": "code",
   "execution_count": 13,
   "id": "68e06744",
   "metadata": {},
   "outputs": [],
   "source": [
    "# Put your code here"
   ]
  },
  {
   "cell_type": "markdown",
   "id": "8e17fcaf",
   "metadata": {},
   "source": [
    "**Question 5**\n",
    "\n",
    "Comment the results of **Question 2** and explain. "
   ]
  },
  {
   "cell_type": "markdown",
   "id": "28315f20",
   "metadata": {},
   "source": [
    "<font size=6 color=\"#009600\">&#9998;</font>  The table displays the n-values from 1 to 20 with three different starting points of the sequence. At $I_1^0$ the sequence alternated from positive to negative and its power is increasing making the value vastly large or small. $I_1^1$ is more accurate with the exponents beginning to decrease but also alternates positive and negative at n = 9. $I_1^2$ is the most accurate with the lowest starting value at  $I_1^2$ = 0.09531017980432$ and decreases until n = 14, which then the values begin to alternate as well.\n",
    "\n",
    "The sequence should be all decreasing with positive values which is not reflected by the data in the table. This is due to the calcuation error of the sequence or by manipulating the starting value. These factors effect the sequence which some error may occur. The sequence calls for a staring value of $log\\big(\\tfrac{11}{10}\\big)$ but, we tested the sequence with values that are all greater than $log\\big(\\tfrac{11}{10}\\big)$, with $I_1^0$ being the furthest and least accurate to $I_1^2$ being the closest and most accurate."
   ]
  },
  {
   "cell_type": "markdown",
   "id": "c6aa8f39",
   "metadata": {},
   "source": [
    "### Congratulations! It is done!\n",
    "\n",
    "Please submit your assignment on Canvas following the procedure described in the Jupyter notebook `slides_review_basics_programming`."
   ]
  }
 ],
 "metadata": {
  "kernelspec": {
   "display_name": "Python 3 (ipykernel)",
   "language": "python",
   "name": "python3"
  },
  "language_info": {
   "codemirror_mode": {
    "name": "ipython",
    "version": 3
   },
   "file_extension": ".py",
   "mimetype": "text/x-python",
   "name": "python",
   "nbconvert_exporter": "python",
   "pygments_lexer": "ipython3",
   "version": "3.11.4"
  }
 },
 "nbformat": 4,
 "nbformat_minor": 5
}
