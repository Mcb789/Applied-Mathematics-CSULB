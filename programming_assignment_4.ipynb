{
 "cells": [
  {
   "cell_type": "markdown",
   "id": "376a337c",
   "metadata": {},
   "source": [
    "### <p style=\"text-align: right;\"> &#9989; Macy Boren"
   ]
  },
  {
   "cell_type": "markdown",
   "id": "d505a235",
   "metadata": {},
   "source": [
    "# __MATH323 &ndash; Introduction to Numerical Analysis &ndash; Fall 2023__\n",
    "\n",
    "# Programming Assignment 4\n",
    "\n",
    "\n",
    "In this programming assignment, you will use your programming skills to compute approximations of different quantities and investigate their errors. This gives you the opportunity to assess your understanding at this point in the course. If you need help, please come see me. I am here to support you! \n",
    "\n",
    "## Goals\n",
    "\n",
    "### By the end of this assignment you will have practiced several topics, including:\n",
    "\n",
    "1. root-finding problems\n",
    "2. fixed-point problems\n",
    "3. fixed-point iteration method\n"
   ]
  },
  {
   "cell_type": "markdown",
   "id": "20a1ad2c",
   "metadata": {},
   "source": [
    "## Instructions\n",
    "\n",
    "You have two weeks to complete this programming assignment. You are required to use LaTeX and Python to answer the questions. The procedure to submit this assignment is available in the Jupyter notebook `slides_review_basics_programming` in Canvas and is mandatory. Note that no late assignment will be accepted. \n",
    "\n",
    "Work through the following assignment, making sure to follow all the directions and answer all the questions.\n",
    "\n",
    "**This assignment is due at 3:00 p.m. Wednesday, Nov 15 on Canvas.**"
   ]
  },
  {
   "cell_type": "markdown",
   "id": "2eea50a7",
   "metadata": {},
   "source": [
    "## Grading\n",
    "\n",
    "* Part 0: Preliminary (1 point)\n",
    "* Part 1: Fixed-point iteration method (8 points)\n",
    "    * Question 1 (3 points)\n",
    "    * Question 2 (5 points)\n",
    "* Part 2: A modified Newton's method (10 points)\n",
    "    * Question 1 (2 points)\n",
    "    * Question 2 (2 points)\n",
    "    * Question 3 (3 points)\n",
    "    * Question 4 (1 point)\n",
    "    * Question 5 (2 points)\n",
    "\n",
    "Total points: **19**\n",
    "___\n",
    "___"
   ]
  },
  {
   "cell_type": "markdown",
   "id": "47979354",
   "metadata": {},
   "source": [
    "## Part 0: Preliminary (1 point)"
   ]
  },
  {
   "cell_type": "markdown",
   "id": "b52ac4fe",
   "metadata": {},
   "source": [
    "**Question 1**\n",
    "\n",
    "Import in the cell below all the modules that you will need in this assignment."
   ]
  },
  {
   "cell_type": "code",
   "execution_count": 1,
   "id": "d5a35618",
   "metadata": {},
   "outputs": [],
   "source": [
    "# Put your code here \n",
    "import numpy as np"
   ]
  },
  {
   "cell_type": "markdown",
   "id": "c81da65d",
   "metadata": {},
   "source": [
    "## Part 1: Fixed-point iteration method 8 points)\n",
    "\n",
    "In this part, we want to implement the fixed-point iteration method."
   ]
  },
  {
   "cell_type": "markdown",
   "id": "cdc7416e",
   "metadata": {},
   "source": [
    "**Question 1**\n",
    "\n",
    "Complete the function `fixed_point_method` below. "
   ]
  },
  {
   "cell_type": "code",
   "execution_count": 2,
   "id": "273a3180",
   "metadata": {},
   "outputs": [],
   "source": [
    "def fixed_point_method(g, p_0, N, tol):\n",
    "    # Inputs: \n",
    "    #   g   : function g \n",
    "    #   p_0 : initial estimate \n",
    "    #   N   : maximum number of iteration \n",
    "    #   tol : tolerance \n",
    "    # Outputs:\n",
    "    #   if the method converges, it returns an approximation \n",
    "    #   of p = g(p), and the vectors approximating |e_n|, |e_{n+1}/e_{n}| and |e_{n+1}/e_{n}^2|\n",
    "    e_n = np.zeros(N+1)\n",
    "    e_n[0] = p_0 \n",
    "    p_n = p_0 \n",
    "    for k in range(1,N+1): #N+1): #CHANGE done becuase 0 is included as a point.\n",
    "        p_np1 = g(p_n)       #CHANGE done\n",
    "        e_n[k] = p_np1\n",
    "        if (abs(p_np1-p_n)/abs(p_np1) <tol):  \n",
    "            e_n = abs(e_n - p_np1)\n",
    "            e_n = e_n[0:k]\n",
    "            ratio1 = e_n[1:]/e_n[0:-1]\n",
    "            ratio2 = e_n[1:]/(e_n[0:-1])**2    #CHANGE done\n",
    "            return p_np1, e_n[0:k], ratio1, ratio2\n",
    "        \n",
    "        p_n = p_np1 # CHANGE done\n",
    "    print(\"Fixed-point method did not converge in\", N, \"iterations\")\n",
    "    return"
   ]
  },
  {
   "cell_type": "markdown",
   "id": "f45a6e6b",
   "metadata": {},
   "source": [
    "**Question 2**\n",
    "\n",
    "Verify your Python function `fixed_point_method` with the function $g(x) = \\sqrt{2x+3}$ that has the fixed point $p=3$. You will use the initial approximation $p_0 = 1$ and the tolerance $\\epsilon = 10^{-10}$. The maximum number of iterations is 150. Print the approximation of the fixed point $p$ and display the vectors $|e_n|$, $\\frac{|e_{n+1}|}{|e_n|}$ and $\\frac{|e_{n+1}|}{|e_n|^2}$ as a table of three columns. Do the results make sense? Justify your answer."
   ]
  },
  {
   "cell_type": "code",
   "execution_count": 3,
   "id": "dfd28b48",
   "metadata": {},
   "outputs": [],
   "source": [
    "# Put your function g(x) here \n",
    "\n",
    "def g(x):\n",
    "    g_x = np.sqrt(2 * x + 3)\n",
    "    return g_x"
   ]
  },
  {
   "cell_type": "code",
   "execution_count": 4,
   "id": "46d7e0b3",
   "metadata": {},
   "outputs": [
    {
     "name": "stdout",
     "output_type": "stream",
     "text": [
      "The approximation of the fixed point is: 2.9999999999218185\n",
      "|en| \t\t |en+1|/|en| \t\t |en+1|/|en|^2\n",
      "7.63932e-01 \t 3.81966e-01 \t\t 1.90983e-01\n",
      "2.66479e-01 \t 3.48826e-01 \t\t 4.56619e-01\n",
      "9.01819e-02 \t 3.38420e-01 \t\t 1.26997e+00\n",
      "3.02128e-02 \t 3.35020e-01 \t\t 3.71494e+00\n",
      "1.00879e-02 \t 3.33895e-01 \t\t 1.10514e+01\n",
      "3.36451e-03 \t 3.33520e-01 \t\t 3.30615e+01\n",
      "1.12171e-03 \t 3.33396e-01 \t\t 9.90918e+01\n",
      "3.73928e-04 \t 3.33354e-01 \t\t 2.97183e+02\n",
      "1.24645e-04 \t 3.33340e-01 \t\t 8.91456e+02\n",
      "4.15486e-05 \t 3.33335e-01 \t\t 2.67427e+03\n",
      "1.38495e-05 \t 3.33333e-01 \t\t 8.02272e+03\n",
      "4.61646e-06 \t 3.33330e-01 \t\t 2.40680e+04\n",
      "1.53877e-06 \t 3.33322e-01 \t\t 7.22030e+04\n",
      "5.12871e-07 \t 3.33299e-01 \t\t 2.16602e+05\n",
      "1.70905e-07 \t 3.33232e-01 \t\t 6.49738e+05\n",
      "5.69161e-08 \t 3.33028e-01 \t\t 1.94862e+06\n",
      "1.89199e-08 \t 3.32418e-01 \t\t 5.84048e+06\n",
      "6.25452e-09 \t 3.30579e-01 \t\t 1.74725e+07\n",
      "2.03272e-09 \t 3.25000e-01 \t\t 5.19624e+07\n",
      "6.25452e-10 \t 3.07692e-01 \t\t 1.51370e+08\n",
      "1.56363e-10 \t 2.50000e-01 \t\t 3.99711e+08\n"
     ]
    }
   ],
   "source": [
    "# Put your code here \n",
    "\n",
    "p_0 = 1\n",
    "tolerance = 10**(-10)\n",
    "max_iterations = 150\n",
    "fixed_point = fixed_point_method(g, p_0, max_iterations, tolerance)\n",
    "\n",
    "p = fixed_point[0]\n",
    "en = fixed_point[1]\n",
    "en1 = fixed_point[2]\n",
    "en2 = fixed_point[3]\n",
    "\n",
    "#print(\"%d \\t %1.3e \\t\\t %1.3e\" % (a, abserror, relerror))\n",
    "print(\"The approximation of the fixed point is:\", p)\n",
    "print(\"%s \\t\\t %s \\t\\t %s\" % (\"|en|\", \"|en+1|/|en|\",\"|en+1|/|en|^2\"))\n",
    "for i in range(0,len(en1)):\n",
    "\n",
    "    print(\"%1.5e \\t %1.5e \\t\\t %1.5e\" % (en[i+1],en1[i],en2[i]))"
   ]
  },
  {
   "cell_type": "markdown",
   "id": "2c8ab5c2",
   "metadata": {},
   "source": [
    "<font size=6 color=\"#009600\">&#9998;</font> \n",
    "\n",
    "1. Test Root\n",
    "\n",
    "\n",
    "The first thing we should do is test to make sure 3 is a root. In order for 3 to be a root $p = g(p)$\n",
    "we see that\n",
    "$$p = g(p) = \\sqrt{2p + 3}$$\n",
    "$$3 = g(3) = \\sqrt{2(3) + 3} = \\sqrt{9} = 3$$\n",
    "\n",
    "therefore 3, is a root to $g(x)$.\n",
    "\n",
    "2. Convergence\n",
    "\n",
    "\n",
    "Next is to check the convergence. The conditions for convergence is $g'(x)$ must exist, $|g'(x)| \\leq k$. If these are met then there is a $p_o \\in [a,b]$ such that $p_{n+1} = g(p_n)$ then the sequence converges to p.\n",
    "\n",
    "we know $e_n \\rightarrow 0$ and $\\frac{|e_n + 1|}{e_n} \\rightarrow |g'(p)|<1$\n",
    "\n",
    "so by looking at $\\frac{|e_n + 1|}{e_n}$ we confirm that it is decreasing and less than 1, therefore convergence is linear.\n",
    "\n",
    "To find the rate of convergence,\n",
    "$$g'(x) = g'(3) = \\frac{1}{\\sqrt{2(3) + 3}} = \\frac{1}{3} \\neq 0 $$\n",
    "therefore the rate of convergence is $\\frac{1}{3}$.\n",
    "\n",
    "We see this represented in $\\frac{|e_n + 1|}{|e_n^2|}$ by noticing the values are increasing. This is becuase of linear convergence at a rate of $\\frac{1}{3}$."
   ]
  },
  {
   "cell_type": "markdown",
   "id": "fc8e0568",
   "metadata": {},
   "source": [
    "## Part 2: A modified Newton's method (10 points)\n",
    "\n",
    "In this part, you will find an approximation of the root $r=2$ of the function $f(x) = x^3-5x^2+8x-4$ using the Newton's method. "
   ]
  },
  {
   "cell_type": "markdown",
   "id": "ff589493",
   "metadata": {},
   "source": [
    "**Question 1**\n",
    "\n",
    "Create your own function `g_newton` so you can use your function `fixed_point_method` in **Part 1**."
   ]
  },
  {
   "cell_type": "code",
   "execution_count": 5,
   "id": "8593b285",
   "metadata": {},
   "outputs": [],
   "source": [
    "# Put your functions here \n",
    "def f(x):\n",
    "    f_x = x**3 - 5*x**2 + 8*x - 4\n",
    "    return f_x\n",
    "\n",
    "def fdx(x):\n",
    "    fdx = 3*x**2 - 10*x + 8\n",
    "    return fdx\n",
    "\n",
    "def g_newton(p_0):\n",
    "    newton = p_0 - f(p_0)/fdx(p_0)\n",
    "    return newton"
   ]
  },
  {
   "cell_type": "markdown",
   "id": "40954ed4",
   "metadata": {},
   "source": [
    "**Question 2**\n",
    "\n",
    "Compute an approximation of the root $r=2$. You will use the initial approximation $p_0 = 3$ and the tolerance $\\epsilon = 10^{-10}$. The maximum number of iterations is 150. Print the approximation of the root $r$ and display the vectors $|e_n|$, $\\frac{|e_{n+1}|}{|e_n|}$ and $\\frac{|e_{n+1}|}{|e_n|^2}$ as a table of three columns. Do the results make sense? Determine the multiplicity of the root $r=2$. Justify your answer."
   ]
  },
  {
   "cell_type": "code",
   "execution_count": 6,
   "id": "b1d45756",
   "metadata": {},
   "outputs": [
    {
     "name": "stdout",
     "output_type": "stream",
     "text": [
      "The approximation of the fixed point is: 2.0000000227291785\n",
      "|en| \t\t |en+1|/|en| \t\t |en+1|/|en|^2\n",
      "6.00000e-01 \t 6.00000e-01 \t\t 6.00000e-01\n",
      "3.47368e-01 \t 5.78947e-01 \t\t 9.64912e-01\n",
      "1.93517e-01 \t 5.57093e-01 \t\t 1.60375e+00\n",
      "1.04014e-01 \t 5.37495e-01 \t\t 2.77751e+00\n",
      "5.43468e-02 \t 5.22494e-01 \t\t 5.02329e+00\n",
      "2.78561e-02 \t 5.12562e-01 \t\t 9.43132e+00\n",
      "1.41143e-02 \t 5.06684e-01 \t\t 1.81893e+01\n",
      "7.10589e-03 \t 5.03455e-01 \t\t 3.56699e+01\n",
      "3.56543e-03 \t 5.01756e-01 \t\t 7.06113e+01\n",
      "1.78586e-03 \t 5.00883e-01 \t\t 1.40483e+02\n",
      "8.93715e-04 \t 5.00439e-01 \t\t 2.80223e+02\n",
      "4.47046e-04 \t 5.00210e-01 \t\t 5.59698e+02\n",
      "2.23561e-04 \t 5.00086e-01 \t\t 1.11865e+03\n",
      "1.11782e-04 \t 5.00005e-01 \t\t 2.23654e+03\n",
      "5.58827e-05 \t 4.99926e-01 \t\t 4.47234e+03\n",
      "2.79308e-05 \t 4.99811e-01 \t\t 8.94393e+03\n",
      "1.39542e-05 \t 4.99598e-01 \t\t 1.78870e+04\n",
      "6.96588e-06 \t 4.99197e-01 \t\t 3.57741e+04\n",
      "3.47172e-06 \t 4.98390e-01 \t\t 7.15472e+04\n",
      "1.72458e-06 \t 4.96751e-01 \t\t 1.43085e+05\n",
      "8.50799e-07 \t 4.93336e-01 \t\t 2.86061e+05\n",
      "4.13587e-07 \t 4.86117e-01 \t\t 5.71365e+05\n",
      "1.93740e-07 \t 4.68437e-01 \t\t 1.13262e+06\n",
      "8.70611e-08 \t 4.49371e-01 \t\t 2.31946e+06\n",
      "3.85224e-08 \t 4.42476e-01 \t\t 5.08236e+06\n",
      "4.97901e-09 \t 1.29250e-01 \t\t 3.35517e+06\n",
      "5.50167e-08 \t 1.10497e+01 \t\t 2.21927e+09\n",
      "0.00000e+00 \t 0.00000e+00 \t\t 0.00000e+00\n"
     ]
    }
   ],
   "source": [
    "# Put your code here\n",
    "\n",
    "p_0 = 3\n",
    "tolerance = 1/(10**10)\n",
    "max_iterations = 150\n",
    "fixed_point = fixed_point_method(g_newton, p_0, max_iterations, tolerance)\n",
    "\n",
    "p = fixed_point[0]\n",
    "en = fixed_point[1]\n",
    "en1 = fixed_point[2]\n",
    "en2 = fixed_point[3]\n",
    "\n",
    "#print(\"%d \\t %1.3e \\t\\t %1.3e\" % (a, abserror, relerror))\n",
    "print(\"The approximation of the fixed point is:\", p)\n",
    "print(\"%s \\t\\t %s \\t\\t %s\" % (\"|en|\", \"|en+1|/|en|\",\"|en+1|/|en|^2\"))\n",
    "for i in range(0,len(en1)):\n",
    "\n",
    "    print(\"%1.5e \\t %1.5e \\t\\t %1.5e\" % (en[i+1],en1[i],en2[i]))"
   ]
  },
  {
   "cell_type": "markdown",
   "id": "3ca4bc16",
   "metadata": {},
   "source": [
    "<font size=6 color=\"#009600\">&#9998;</font>  \n",
    "1. Show root\n",
    "\n",
    "Confirm that r = 2 is a root. $f(x) = 0$\n",
    "$$p = g(p) = p^3 - 5p^2 + 8p - 4$$\n",
    "$$2 = g(2) = 2^3 - 5(2)^2 + 8(2) - 4 = 0$$\n",
    "\n",
    "therefore 2, is a root to $f(x)$.\n",
    "\n",
    "\n",
    "2. Show convergence\n",
    "\n",
    "We know $e_n \\rightarrow 0$ and $\\frac{|e_n + 1|}{e_n} \\rightarrow |g'(p)|<1$ so therefore the sequence has linear convergence.\n",
    "\n",
    "\n",
    "3. Anything weird?\n",
    "\n",
    "at n = 28, $|e_n| = \\frac{|e_{n+1}|}{|e_n|}  = \\frac{|e_{n+1}|}{|e_n|^2} = 0$ so the approximation is found in 28 iterations and is more accurate. \n",
    "\n",
    "4. Find Mulitiplicity\n",
    "\n",
    "The multiplicity of root $r = 2$ is found with the fact that $g'(r) = 1 - \\frac{1}{m}$\n",
    "\n",
    "so we say that $$g'(r) \\approx 0.5 = 1 - \\frac{1}{m}$$\n",
    "$$ 1 - \\frac{1}{m} = 0.5$$\n",
    "$$ \\frac{1}{m} = 0.5 $$\n",
    "$$ m = \\frac{1}{0.5} = 2$$\n",
    "\n",
    "So, r = 2 is a root with multiplicity 2."
   ]
  },
  {
   "cell_type": "markdown",
   "id": "b4212b47",
   "metadata": {},
   "source": [
    "**Question 3**\n",
    "\n",
    "For a zero of multiplicity $m$, we can improve the convergence of the Newton's method by considering the following fixed-point iteration method \n",
    "\n",
    "$$p_{n+1} = p_n - m\\frac{f(p_n)}{f'(p_n)}.$$\n",
    "\n",
    "Show that the convergence of this fixed-point iteration method is at least quadratic for a zero of multiplicity $m$."
   ]
  },
  {
   "cell_type": "markdown",
   "id": "dd3d9676",
   "metadata": {},
   "source": [
    "<font size=6 color=\"#009600\">&#9998;</font>  \n",
    "\n",
    "Assume that $f(p_n)$ with root r has a multiplicity m. $f(p_n)$ can be rewritten as $f(p_n) = (p_n - r)^m \\,h(p_n)$, and \n",
    "\n",
    "\\begin{equation} \n",
    "        \\begin{aligned}\n",
    "            g(p_n) =&\\,\\, p_n - \\frac{f(p_n)}{f'(p_n)} \\\\\n",
    "            =&\\,\\,  p_n - \\frac{(p_n-r)h(p_n)}{mh(p_n)+(p_n-r)h^{(1)}(p_n)}\\\\\n",
    "            =&\\,\\, p_n - (p_n-r)u(p_n)\n",
    "         \\end{aligned}\n",
    "    \\end{equation}\n",
    "    \n",
    "Now we know that the $\\lim_{p_n \\rightarrow r} g(p_n) = r$.\n",
    "Then we can let $p_n = r$ and show that\n",
    "\n",
    "\\begin{equation} \n",
    "        \\begin{aligned}\n",
    "            g(r) =&\\,\\,  r - \\frac{(r-r)h(r)}{mh(r)+(r-r)h^{(1)}(r)}\\\\\n",
    "            =&\\,\\,  r - \\frac{(0)h(r)}{mh(r)+(0)h^{(1)}(r)}\\\\\n",
    "            =&\\,\\, r\\\\\n",
    "      g'(r) =&\\,\\, 0\n",
    "         \\end{aligned}\n",
    "    \\end{equation}\n",
    "\n",
    "This shows the convergence of the fixed point iteration method is at least quadratic."
   ]
  },
  {
   "cell_type": "markdown",
   "id": "a91969f4",
   "metadata": {},
   "source": [
    "**Question 4**\n",
    "\n",
    "Create your own function `g_modified_newton` so you can use your function `fixed_point_method` in **Part 1**."
   ]
  },
  {
   "cell_type": "code",
   "execution_count": 7,
   "id": "7ac00db2",
   "metadata": {},
   "outputs": [],
   "source": [
    "# Put your function here\n",
    "def f(x):\n",
    "    f_x = x**3 - 5*x**2 + 8*x - 4\n",
    "    return f_x\n",
    "\n",
    "def fdx(x):\n",
    "    fdx = 3*x**2 - 10*x + 8\n",
    "    return fdx\n",
    "\n",
    "def g_modified_newton(p_0):\n",
    "    newton = p_0 - m*(f(p_0)/fdx(p_0))\n",
    "    return newton"
   ]
  },
  {
   "cell_type": "markdown",
   "id": "6287ce83",
   "metadata": {},
   "source": [
    "**Question 5**\n",
    "\n",
    "Compute an approximation of the root $r=2$ using the modified Newton's method. You will use the initial approximation $p_0 = 3$ and the tolerance $\\epsilon = 10^{-10}$. The maximum number of iterations is 150. Print the approximation of the fixed point $p$ and display the vectors $|e_n|$, $\\frac{|e_{n+1}|}{|e_n|}$ and $\\frac{|e_{n+1}|}{|e_n|^2}$ as a table of three columns. Do the results make sense? Justify your answer."
   ]
  },
  {
   "cell_type": "code",
   "execution_count": 8,
   "id": "cf0f0f98",
   "metadata": {
    "scrolled": false
   },
   "outputs": [
    {
     "name": "stdout",
     "output_type": "stream",
     "text": [
      "The approximation of the fixed point is: 2.000000003883266\n",
      "|en| \t\t |en+1|/|en| \t\t |en+1|/|en|^2\n",
      "2.00000e-01 \t 2.00000e-01 \t\t 2.00000e-01\n",
      "1.53846e-02 \t 7.69231e-02 \t\t 3.84615e-01\n",
      "1.15670e-04 \t 7.51855e-03 \t\t 4.88706e-01\n",
      "2.83036e-09 \t 2.44692e-05 \t\t 2.11544e-01\n",
      "2.61760e-07 \t 9.24829e+01 \t\t 3.26754e+10\n",
      "0.00000e+00 \t 0.00000e+00 \t\t 0.00000e+00\n"
     ]
    }
   ],
   "source": [
    "# Put your code here \n",
    "p_0 = 3\n",
    "m = 2\n",
    "tolerance = 1/(10**10)\n",
    "max_iterations = 150\n",
    "fixed_point = fixed_point_method(g_modified_newton, p_0, max_iterations, tolerance)\n",
    "\n",
    "p = fixed_point[0]\n",
    "en = fixed_point[1]\n",
    "en1 = fixed_point[2]\n",
    "en2 = fixed_point[3]\n",
    "\n",
    "#print(\"%d \\t %1.3e \\t\\t %1.3e\" % (a, abserror, relerror))\n",
    "print(\"The approximation of the fixed point is:\", p)\n",
    "print(\"%s \\t\\t %s \\t\\t %s\" % (\"|en|\", \"|en+1|/|en|\",\"|en+1|/|en|^2\"))\n",
    "for i in range(0,len(en1)):\n",
    "\n",
    "    print(\"%1.5e \\t %1.5e \\t\\t %1.5e\" % (en[i+1],en1[i],en2[i]))"
   ]
  },
  {
   "cell_type": "markdown",
   "id": "5e6ba340",
   "metadata": {},
   "source": [
    "<font size=6 color=\"#009600\">&#9998;</font> \n",
    "1. Test Root\n",
    "\n",
    "No change to the function so $r=2$ is still a root.\n",
    "\n",
    "\n",
    "2. Show convergence\n",
    "\n",
    "we know $|e_n| \\rightarrow 0$ so $f(x)$ converges. In general, $\\frac{|e_n + 1|}{e_n} \\rightarrow |f'(x)|<1$\n",
    "\n",
    "$\\frac{|e_n + 1|}{e_n}$ we confirm is decreasing and less than 1, therefore convergence is linear.\n",
    "\n",
    "To find the rate of convergence,\n",
    "\n",
    "\\begin{equation}\n",
    "    \\begin{aligned}\n",
    "    g'(r) =&\\,\\, 1- \\frac{1}{m} \\\\\n",
    "    =& \\,\\, \\frac{1}{2}\n",
    "    \\end{aligned}\n",
    "\\end{equation}\n",
    "\n",
    "$f(x)$ converges linearly with a rate of convergence of $\\frac{1}{2}$. We know that a larger m, means a slower convergence. Becuase the multiplicity of the root is small enough it, decreases the amounts of iterations and gets to the approximation faster.\n",
    "\n",
    "\n",
    "3. Anything weird?\n",
    "\n",
    "At n = 5 there is an increase of the value for $|e_n|, \\frac{|e_{n+1}|}{|e_n|}$, and $\\frac{|e_{n+1}|}{|e_n|^2}$. This is becuase $k>1$. There is a low number of iterations but a better approximation of the root."
   ]
  },
  {
   "cell_type": "markdown",
   "id": "baef1b0c",
   "metadata": {},
   "source": [
    "### Congratulations! It is done!\n",
    "\n",
    "Please submit your assignment on Canvas following the procedure described in the Jupyter notebook `slides_review_basics_programming`."
   ]
  }
 ],
 "metadata": {
  "kernelspec": {
   "display_name": "Python 3 (ipykernel)",
   "language": "python",
   "name": "python3"
  },
  "language_info": {
   "codemirror_mode": {
    "name": "ipython",
    "version": 3
   },
   "file_extension": ".py",
   "mimetype": "text/x-python",
   "name": "python",
   "nbconvert_exporter": "python",
   "pygments_lexer": "ipython3",
   "version": "3.11.4"
  }
 },
 "nbformat": 4,
 "nbformat_minor": 5
}
